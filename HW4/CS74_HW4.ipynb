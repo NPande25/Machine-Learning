{
 "cells": [
  {
   "cell_type": "markdown",
   "id": "ae821e89",
   "metadata": {},
   "source": [
    "# COSC 74 - Homework 4\n",
    "## Nikhil Pande"
   ]
  },
  {
   "cell_type": "code",
   "execution_count": 268,
   "id": "c784b462",
   "metadata": {},
   "outputs": [],
   "source": [
    "import autograd.numpy as np\n",
    "from autograd import grad \n",
    "import matplotlib.pyplot as plt\n",
    "import random\n",
    "import math\n",
    "import statistics\n",
    "%matplotlib inline"
   ]
  },
  {
   "cell_type": "markdown",
   "id": "dff66f95",
   "metadata": {},
   "source": [
    "### Part I: Naive Bayes Classification"
   ]
  },
  {
   "cell_type": "markdown",
   "id": "60347f28",
   "metadata": {},
   "source": [
    "You are given a training dataset in CSV format (hw4_naive.csv). The training data has\n",
    "5,600 rows:\n",
    "- Columns 1 through 6 of the given CSV file represent the features (X)\n",
    "- The last column (“Label”) represents the class label (Y) (0 or 1)"
   ]
  },
  {
   "cell_type": "markdown",
   "id": "d893b47c",
   "metadata": {},
   "source": [
    "1) Divide the data into test / train sets (80% and 20% respectively)"
   ]
  },
  {
   "cell_type": "code",
   "execution_count": 269,
   "id": "3542a841",
   "metadata": {},
   "outputs": [],
   "source": [
    "from sklearn.model_selection import train_test_split \n",
    "\n",
    "naive = np.loadtxt(\"hw4_naive.csv\", skiprows = 1, delimiter = \",\")\n",
    "train, test = train_test_split(naive, test_size = 0.2, random_state = 0)\n"
   ]
  },
  {
   "cell_type": "markdown",
   "id": "c6e2d4b8",
   "metadata": {},
   "source": [
    "2) Implement a Multinomial Naïve Bayes classifier from scratch, with\n",
    "smoothing. You can set the default smoothing value to 1. You are free to code\n",
    "this up however you like, however, make sure that there is a function that can be\n",
    "called with a test X vector and returns the predicted Y."
   ]
  },
  {
   "cell_type": "code",
   "execution_count": 270,
   "id": "e4842703",
   "metadata": {},
   "outputs": [],
   "source": [
    "def MultiBayes(train, x):\n",
    "    likelihood = 0\n",
    "    prior = 0\n",
    "    numrows = len(train)\n",
    "    m = []\n",
    "    n = []\n",
    "    \n",
    "    # counts start at one because of smoothing\n",
    "    m_count=[1,1,1,1,1,1]\n",
    "    n_count=[1,1,1,1,1,1]\n",
    "    \n",
    "    for row in train:\n",
    "        # Calculate prior\n",
    "        prior += row[6]\n",
    "        \n",
    "        if (row[6] == 1):\n",
    "            m.append(row)\n",
    "            for i in range(len(row)-1):\n",
    "                if row[i]==x[i]:\n",
    "                    m_count[i]+=1\n",
    "            \n",
    "        else:\n",
    "            n.append(row)\n",
    "            for i in range(len(row)-1):\n",
    "                if row[i]==x[i]:\n",
    "                    n_count[i]+=1\n",
    "        \n",
    "    prior = prior / numrows\n",
    "    \n",
    "    # likelihood for m (1)\n",
    "    likelihood_m = prior\n",
    "    for count in m_count:\n",
    "        likelihood_m += np.log(count / (len(m) + 6))  # Laplace smoothing with a count of 1\n",
    "        \n",
    "    # likelihood for n (0)\n",
    "    likelihood_n = 1 - prior\n",
    "    for count in n_count:\n",
    "        likelihood_n += np.log(count / (len(n) + 6))  # Laplace smoothing with a count of 1\n",
    "\n",
    "    \n",
    "    # compare\n",
    "    if likelihood_n > likelihood_m:\n",
    "        return 0\n",
    "    return 1\n"
   ]
  },
  {
   "cell_type": "markdown",
   "id": "bc37c938",
   "metadata": {},
   "source": [
    "3) Implement a Gaussian Naïve Bayes classifier from scratch (no need for smoothing here)."
   ]
  },
  {
   "cell_type": "code",
   "execution_count": 271,
   "id": "86922c3c",
   "metadata": {},
   "outputs": [],
   "source": [
    "def GaussBayes(train, x):\n",
    "    likelihood = 0\n",
    "    prior = 0\n",
    "    numrows = len(train)\n",
    "    m = []\n",
    "    n = []\n",
    "    \n",
    "    # initialize array of arrays, where the inner array tracks\n",
    "    # the observations for each feature where label = 1 (m) or\n",
    "    # label = 0 (n)\n",
    "    m_count = [[], [], [], [], [], []]\n",
    "    n_count= [[], [], [], [], [], []]\n",
    "    \n",
    "    \n",
    "    for row in train:\n",
    "        # Calculate prior\n",
    "        prior += row[6]\n",
    "        \n",
    "        if (row[6] == 1):\n",
    "            m.append(row)\n",
    "            for i in range(len(row)-1):\n",
    "                m_count[i].append(row[i])\n",
    "            \n",
    "        else:\n",
    "            n.append(row)\n",
    "            for i in range(len(row)-1):\n",
    "                n_count[i].append(row[i])\n",
    "\n",
    "                \n",
    "    # calculate prior\n",
    "    prior = prior / numrows\n",
    "                \n",
    "    # calculate mean and stddev for ultimate formula\n",
    "    means_m = []\n",
    "    means_n = []\n",
    "    var_m = []\n",
    "    var_n = []\n",
    "    \n",
    "    for i in range(len(m_count)):\n",
    "        means_m.append(np.mean(np.array(m_count[i])))\n",
    "        means_n.append(np.mean(np.array(n_count[i])))\n",
    "        var_m.append(np.std(n_count[i])**2)\n",
    "        var_n.append(np.std(m_count[i])**2)\n",
    "            \n",
    "    # l_m = likelihood of m (1)\n",
    "    l_m = prior\n",
    "    l_n = 1-prior\n",
    "    \n",
    "    for i in range(len(m_count)):\n",
    "        l_m = l_m*(1/np.sqrt(2*np.pi*var_m[i])) * np.exp(-1 * (x[i] - means_m[i])**2 / (2*var_m[i]))\n",
    "        l_n = l_n*(1/np.sqrt(2*np.pi*var_n[i])) * np.exp(-1 * (x[i] - means_n[i])**2 / (2*var_n[i]))\n",
    "            \n",
    "    if l_m >= l_n:\n",
    "        return 1\n",
    "    return 0\n",
    "    "
   ]
  },
  {
   "cell_type": "code",
   "execution_count": 272,
   "id": "cfae4c93",
   "metadata": {},
   "outputs": [
    {
     "name": "stdout",
     "output_type": "stream",
     "text": [
      "Finished\n"
     ]
    }
   ],
   "source": [
    "# Multinomial NB variables\n",
    "TPm = 0\n",
    "FPm = 0\n",
    "FNm = 0\n",
    "TNm = 0\n",
    "\n",
    "# Gaussian NB Variables\n",
    "TPg = 0\n",
    "FPg = 0\n",
    "FNg = 0\n",
    "TNg = 0\n",
    "\n",
    "\n",
    "for x in test:\n",
    "    pred_m = MultiBayes(train, x)\n",
    "    pred_g = GaussBayes(train, x)\n",
    "    \n",
    "    # calculate multinomial scores\n",
    "    if pred_m == 1 and x[6] == 1:\n",
    "        TPm += 1\n",
    "    elif pred_m == 1:\n",
    "        FPm += 1\n",
    "    elif x[6] == 1:\n",
    "        FNm += 1\n",
    "    else:\n",
    "        TNm += 1 \n",
    "        \n",
    "    # calculate gaussian scores\n",
    "    if pred_g == 1 and x[6] == 1:\n",
    "        TPg += 1\n",
    "    elif pred_g == 1:\n",
    "        FPg += 1\n",
    "    elif x[6] == 1:\n",
    "        FNg += 1\n",
    "    else:\n",
    "        TNg += 1\n",
    "        \n",
    "print(\"Finished\")\n"
   ]
  },
  {
   "cell_type": "code",
   "execution_count": 273,
   "id": "cc1c67d3",
   "metadata": {},
   "outputs": [
    {
     "name": "stdout",
     "output_type": "stream",
     "text": [
      "Multinomial NB Accuracy:  0.8723214285714286\n",
      "Multinomial NB F1:  0.8511966701352758\n"
     ]
    }
   ],
   "source": [
    "precisionm = TPm / (TPm+FPm)\n",
    "recallm = TPm / (TPm+FNm)\n",
    "accuracym = (TPm+TNm) / (TPm+TNm+FPm+FNm)\n",
    "F1m=2*precisionm*recallm / (precisionm + recallm)\n",
    "\n",
    "\n",
    "print(\"Multinomial NB Accuracy: \", accuracym)\n",
    "print(\"Multinomial NB F1: \", F1m)"
   ]
  },
  {
   "cell_type": "code",
   "execution_count": 274,
   "id": "6e5f0731",
   "metadata": {},
   "outputs": [
    {
     "name": "stdout",
     "output_type": "stream",
     "text": [
      "Gaussian NB Accuracy:  0.4375\n",
      "Multinomial NB F1:  0.5007923930269415\n"
     ]
    }
   ],
   "source": [
    "precisiong = TPg / (TPg + FPg)\n",
    "recallg = TPg / (TPg + FNg)\n",
    "accuracyg = (TPg+TNg) / (TPg+TNg+FPg+FNg)\n",
    "F1g=2*precisiong*recallg / (precisiong + recallg)\n",
    "\n",
    "\n",
    "print(\"Gaussian NB Accuracy: \", accuracyg)\n",
    "print(\"Multinomial NB F1: \", F1g)"
   ]
  },
  {
   "cell_type": "markdown",
   "id": "091ee04e",
   "metadata": {},
   "source": [
    "### Part II: Clustering"
   ]
  },
  {
   "cell_type": "markdown",
   "id": "4c58d861",
   "metadata": {},
   "source": [
    "You are given a training dataset in CSV format (hw4_cluster.csv). The files each contain\n",
    "40 rows with 2 columns. Column 1 & 2 are the features. There are no labels for this\n",
    "dataset. Your goal for this assignment is to implement a clustering algorithm and run it\n",
    "on this dataset. For this assignment you can the Euclidean distance as the distance\n",
    "function."
   ]
  },
  {
   "cell_type": "markdown",
   "id": "07fb7f77",
   "metadata": {},
   "source": [
    "1) Implement a generalized K-means algorithm from scratch. You should have a single function that takes in as input the data points, K, and some other hyperparameters, specified below. The function should return K sets of data points. Each set corresponding to one cluster.\n",
    "\n",
    "The hyperparameters your functions should support and the values they can take are:\n",
    "- The method for calculating the centroid (i.e. the mean)\n",
    "- The initialization method: Random Split Initialization or Random Seed Selection Method\n",
    "- Max_iter: max number of iterations to run the algorithm.\n",
    "- K: number of clusters\n",
    "\n",
    "Note that your stopping condition should have two parts:\n",
    "1. Stop if you reach the max iterations\n",
    "2. Stop if no change is made to the clusters in the last step.\n",
    "\n",
    "You will be running this code as part of the next question. For this part you just need to\n",
    "implement the function."
   ]
  },
  {
   "cell_type": "code",
   "execution_count": 275,
   "id": "0abdceda",
   "metadata": {},
   "outputs": [],
   "source": [
    "cluster = np.loadtxt(\"hw4_cluster.csv\", delimiter = \",\", skiprows = 1)"
   ]
  },
  {
   "cell_type": "code",
   "execution_count": 276,
   "id": "726832be",
   "metadata": {},
   "outputs": [],
   "source": [
    "# HELPER METHODS\n",
    "# two methods to initialize the centroids\n",
    "def random_split(data, K, centroid_method):\n",
    "    clusters = np.array_split(data, K)\n",
    "    centroids = update_centroids(clusters, centroid_method)\n",
    "    return centroids\n",
    "    \n",
    "def random_seed(data, K, centroid_method):\n",
    "    seeds = np.random.choice(len(data), K, replace = False)\n",
    "    centroids = data[seeds]\n",
    "    return centroids\n",
    "    \n",
    "\n",
    "# method to calculate distance between points and centroid, depending on method\n",
    "def distance(point, centroid, centroid_method):\n",
    "    if centroid_method == 'mean':\n",
    "        return np.linalg.norm(point - centroid, ord = 2)\n",
    "\n",
    "    elif centroid_method == 'median':\n",
    "        return np.linalg.norm(point - centroid, ord = 1)\n",
    "\n",
    "    else:\n",
    "        raise ValueError('distance method must be mean or median.')\n",
    "\n",
    "# method to update centroids based on clusters and method\n",
    "def update_centroids(clusters, centroid_method):\n",
    "    centroids = []\n",
    "\n",
    "    for cluster in clusters:\n",
    "        if centroid_method == 'mean':\n",
    "          centroid = np.mean(cluster, axis = 0)\n",
    "\n",
    "        elif centroid_method == 'median':\n",
    "          centroid = np.median(cluster, axis = 0)\n",
    "\n",
    "        else:\n",
    "          raise ValueError('centroid method must be mean or median.')\n",
    "\n",
    "        centroids.append(centroid)\n",
    "\n",
    "    return centroids\n",
    "\n",
    "# overall k_means implementation, using the above methods\n",
    "def k_means(data, K, initialization_method = random_split, centroid_method = 'mean', max_iter = 100):\n",
    "    centroids = initialization_method(data, K, centroid_method)\n",
    "\n",
    "    # loop until max iters has been reached\n",
    "    for _ in range(max_iter):\n",
    "        \n",
    "        clusters = [[] for _ in range(len(centroids))]\n",
    "\n",
    "        for point in data:\n",
    "            closest = min(range(len(centroids)), key = lambda i: distance(point, centroids[i], centroid_method))\n",
    "            clusters[closest].append(point)\n",
    "            \n",
    "        previous_centroids = centroids\n",
    "        centroids = update_centroids(clusters, centroid_method) # update the centroids\n",
    "\n",
    "        # or stop when no change has been made\n",
    "        if np.array_equal(previous_centroids, centroids):\n",
    "            break\n",
    "\n",
    "    return clusters"
   ]
  },
  {
   "cell_type": "markdown",
   "id": "87726e2e",
   "metadata": {},
   "source": [
    "2) Silhouette score. In this part of the assignment, you are implementing a function from scratch that calculates the Silhouette score for a list of clusters. The function should take in a list of clusters (such as the output of the last function you implemented) and return a single Silhouette score. Report the Silhouette score for {k=5, Initialization method = Random Seed Selection, Max_iter = 50, method for calculating centroid = mean} using your K-Means code from the previous question."
   ]
  },
  {
   "cell_type": "code",
   "execution_count": 277,
   "id": "780c8db9",
   "metadata": {},
   "outputs": [
    {
     "data": {
      "text/plain": [
       "0.6210914928018528"
      ]
     },
     "execution_count": 277,
     "metadata": {},
     "output_type": "execute_result"
    }
   ],
   "source": [
    "# Function to calculate the avg distance between two clusters\n",
    "def average_distance(cluster, other_cluster):\n",
    "  distance = 0\n",
    "\n",
    "  for i in range(len(cluster)):\n",
    "    for j in range(len(other_cluster)):\n",
    "      distance += np.linalg.norm(cluster[i] - other_cluster[j], ord = 2)\n",
    "  \n",
    "  return distance / len(other_cluster)\n",
    "\n",
    "\n",
    "def sil(clusters):\n",
    "    cluster_count = 0\n",
    "    for cluster in clusters:\n",
    "        if not np.array_equal(cluster, np.array([])):\n",
    "            cluster_count += 1\n",
    "            \n",
    "    if cluster_count <= 1:\n",
    "        return -1  # Silhouette score is -1\n",
    "\n",
    "    silhouette_scores = []\n",
    "    \n",
    "    for i, cluster in enumerate(clusters): \n",
    "        # Calculate a(i) - average distance from data point to other points in same cluster\n",
    "        a_i = average_distance(cluster, cluster)\n",
    "        \n",
    "        # Calculate b(i) - average distance from data point to points in other cluster\n",
    "        b_values = []\n",
    "        for j, other in enumerate(clusters):\n",
    "            if i != j:\n",
    "                b_values.append(average_distance(cluster, other))\n",
    "\n",
    "        b_i = min(b_values)\n",
    "        \n",
    "        \n",
    "        # Calculate Silhouette score for this cluster\n",
    "        s_i = (b_i - a_i) / max(a_i, b_i)\n",
    "        silhouette_scores.append(s_i)\n",
    "            \n",
    "    # Overall Silhouette score is the mean of the Silhouette scores for all clusters\n",
    "    return np.mean(silhouette_scores)\n",
    "\n",
    "\n",
    "# test silhouette function\n",
    "c1 = k_means(cluster, 5, random_seed, 'mean', 50)\n",
    "\n",
    "sil(c1)\n"
   ]
  },
  {
   "cell_type": "markdown",
   "id": "e55c51d6",
   "metadata": {},
   "source": [
    "### Bonus Section"
   ]
  },
  {
   "cell_type": "markdown",
   "id": "3553409b",
   "metadata": {},
   "source": [
    "Finding best K. Run the code you implemented in question 1 for\n",
    "k=2,3,4,5. Set the other hyperparameters to the following:\n",
    "- The method for calculating the centroid: Mean\n",
    "- The initialization method: Random Split Initialization\n",
    "- Max_iterations: 100\n",
    "\n",
    "Calculate the Silhouette score for each K using the function in question 2 and use these\n",
    "scores to pick the best K. What is the best value of K?\n"
   ]
  },
  {
   "cell_type": "code",
   "execution_count": 278,
   "id": "4719566b",
   "metadata": {},
   "outputs": [
    {
     "data": {
      "text/plain": [
       "<matplotlib.collections.PathCollection at 0x12fce8d60>"
      ]
     },
     "execution_count": 278,
     "metadata": {},
     "output_type": "execute_result"
    },
    {
     "data": {
      "image/png": "[encoded data removed]",
      "text/plain": [
       "<Figure size 640x480 with 1 Axes>"
      ]
     },
     "metadata": {},
     "output_type": "display_data"
    }
   ],
   "source": [
    "# BONUS POINTS\n",
    "c2 = k_means(cluster, 2, random_split, 'mean', 100)\n",
    "c3 = k_means(cluster, 3, random_split, 'mean',  100)\n",
    "c4 = k_means(cluster, 4, random_split, 'mean', 100)\n",
    "c5 = k_means(cluster, 5, random_split, 'mean',  100)\n",
    "\n",
    "s2 = sil(c2)\n",
    "s3 = sil(c3)\n",
    "s4 = sil(c4)\n",
    "s5 = sil(c5)\n",
    "\n",
    "plt.scatter(range(2,6),[s2,s3,s4,s5])"
   ]
  },
  {
   "cell_type": "markdown",
   "id": "3255aac9",
   "metadata": {},
   "source": [
    "**Answer:** It's clear from the scatter plot that 2 clusters is the optimal number of clusters. With this number of clusters, we have the highest silhouette score, which implies that the distance within clusters is small for two clusters, and the distance between these two clusters is large."
   ]
  }
 ],
 "metadata": {
  "kernelspec": {
   "display_name": "Python 3 (ipykernel)",
   "language": "python",
   "name": "python3"
  },
  "language_info": {
   "codemirror_mode": {
    "name": "ipython",
    "version": 3
   },
   "file_extension": ".py",
   "mimetype": "text/x-python",
   "name": "python",
   "nbconvert_exporter": "python",
   "pygments_lexer": "ipython3",
   "version": "3.10.8"
  }
 },
 "nbformat": 4,
 "nbformat_minor": 5
}
