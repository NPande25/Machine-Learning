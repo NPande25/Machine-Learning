{
  "cells": [
    {
      "cell_type": "markdown",
      "metadata": {
        "id": "7nH7d2QIkBV4"
      },
      "source": [
        "# HW2  Regression Fun Time!\n",
        "## Nikhil Pande"
      ]
    },
    {
      "cell_type": "code",
      "source": [
        "from google.colab import drive\n",
        "drive.mount('/content/drive')"
      ],
      "metadata": {
        "colab": {
          "base_uri": "https://localhost:8080/"
        },
        "id": "Rfefevl3U8Vy",
        "outputId": "52fdc265-22a6-433d-ef54-7102a9edec71"
      },
      "execution_count": 2,
      "outputs": [
        {
          "output_type": "stream",
          "name": "stdout",
          "text": [
            "Mounted at /content/drive\n"
          ]
        }
      ]
    },
    {
      "cell_type": "markdown",
      "metadata": {
        "id": "0BMtn73EkBV5"
      },
      "source": [
        "Please run the cell below to import libraries needed for this HW. Please use the autograd numpy, otherwise you will have issues."
      ]
    },
    {
      "cell_type": "code",
      "execution_count": 80,
      "metadata": {
        "id": "1Dy9vEzJkBV6"
      },
      "outputs": [],
      "source": [
        "import autograd.numpy as np\n",
        "from autograd import grad\n",
        "import matplotlib.pyplot as plt\n",
        "import pandas as pd\n",
        "\n",
        "%matplotlib inline\n"
      ]
    },
    {
      "cell_type": "markdown",
      "metadata": {
        "id": "k4Xi2yXOkBV6"
      },
      "source": [
        "Q1) **[10 points]**\n",
        "\n",
        "Implement the linear regression model discussed in class below. The function (called model) takes in an array of data points, x , and an array of weights, w, and returns a vector y_predicted containing the linear combination for each of the data points. This is the linear model we have discussed in class. You can assume each data point in x only has one feature.  The length of the vector being returned should be the same as x.\n"
      ]
    },
    {
      "cell_type": "code",
      "execution_count": 81,
      "metadata": {
        "id": "-oa8xQ7jkBV6"
      },
      "outputs": [],
      "source": [
        "def model(x,w):\n",
        "    #your code here\n",
        "    # dot product\n",
        "    y_predicted = np.dot(x.T, w[1:]) + w[0]\n",
        "\n",
        "\n",
        "    return y_predicted"
      ]
    },
    {
      "cell_type": "markdown",
      "metadata": {
        "id": "MCEN69STkBV6"
      },
      "source": [
        "Q2) **[10 ponts]**\n",
        "\n",
        "Implement the least squares function discussed in class below. The function should take in an array of weights, w, an array of x's and an array of ys. It should use the model function implemented above and return a float indicating the total cost."
      ]
    },
    {
      "cell_type": "code",
      "execution_count": 82,
      "metadata": {
        "id": "o2qygqSMkBV6"
      },
      "outputs": [],
      "source": [
        "def least_squares(w,x,y):\n",
        "\n",
        "    # use model to predict\n",
        "    y_predicted = model(x, w)\n",
        "\n",
        "    # Calculate the squared differences\n",
        "    squared_diff = np.square(y - y_predicted)\n",
        "\n",
        "    # aggregate\n",
        "    cost = np.sum(squared_diff) / y.size\n",
        "\n",
        "    return cost"
      ]
    },
    {
      "cell_type": "markdown",
      "metadata": {
        "id": "zB4zhj3RkBV6"
      },
      "source": [
        "Q3) **[5 point]**\n",
        "\n",
        "This one is a freebie from HW1. Copy and paste your gradient descent function here. Specifically, the one that takes in the cost function as input and return the weight and cost history. We will be using a fixed alpha for this HW. The only difference is that this function should now also take in as input an array of x and ys, corresponding to our data. The w,x, and y are given as inputs to the cost funtion and its gradient."
      ]
    },
    {
      "cell_type": "code",
      "execution_count": 83,
      "metadata": {
        "id": "PIiL3QzFkBV7"
      },
      "outputs": [],
      "source": [
        "def gradient_descent(g, alpha, max_its, w, x, y):\n",
        "    # gradient.\n",
        "    gradient = grad(g) # This is how you use the autograd library to find the gradient of a function.\n",
        "\n",
        "    # Initialize the weight and cost history.\n",
        "    weight_history = []\n",
        "    cost_history = []\n",
        "\n",
        "    weight_history.append(w)\n",
        "    cost_history.append(g(w, x, y))\n",
        "\n",
        "    # Apply the gradient descent, according to the slope (determined by the 'weight', gradient, and alpha).\n",
        "    for k in range(1, max_its):\n",
        "      weight_history.append(weight_history[k - 1] - alpha * gradient(weight_history[k - 1], x, y))\n",
        "      cost_history.append(g(weight_history[k], x, y))\n",
        "\n",
        "    return weight_history, cost_history\n"
      ]
    },
    {
      "cell_type": "markdown",
      "metadata": {
        "id": "-AV6sw45kBV7"
      },
      "source": [
        "Q4) **[1 points]**  \n",
        "Run the code below to import a dataset. Then, plot a scatter plot of the data (x vs y)."
      ]
    },
    {
      "cell_type": "code",
      "execution_count": 84,
      "metadata": {
        "id": "mHIKQBnikBV7"
      },
      "outputs": [],
      "source": [
        "# import the dataset\n",
        "## Carefully check the path\n",
        "csvname = '/content/drive/MyDrive/HW2/kleibers_law_data.csv'\n",
        "data = np.loadtxt(csvname, delimiter=',')\n",
        "x = np.log(data[:-1,:])\n",
        "y = np.log(data[-1:,:])\n"
      ]
    },
    {
      "cell_type": "code",
      "execution_count": 85,
      "metadata": {
        "id": "tOeXEK1-kBV7",
        "colab": {
          "base_uri": "https://localhost:8080/",
          "height": 472
        },
        "outputId": "2842943c-a780-44e7-d72c-25f1a92ede5a"
      },
      "outputs": [
        {
          "output_type": "display_data",
          "data": {
            "text/plain": [
              "<Figure size 640x480 with 1 Axes>"
            ],
            "image/png": "[encoded data removed]"
          },
          "metadata": {}
        }
      ],
      "source": [
        "#Your code here\n",
        "\n",
        "fig, ax = plt.subplots()\n",
        "\n",
        "ax.scatter(x, y, s=1)\n",
        "\n",
        "# Add labels and a title.\n",
        "ax.set_xlabel('X')\n",
        "ax.set_ylabel('Y')\n",
        "ax.set_title('Kleibers Law Data')\n",
        "\n",
        "plt.show()\n"
      ]
    },
    {
      "cell_type": "markdown",
      "metadata": {
        "id": "rbaQHly_kBV7"
      },
      "source": [
        "Q5) **[10 points]**\n",
        "\n",
        "[Part 1] Use your gradient descent function to learn a linear regression model for the x and y above using the following parameters and plot the cost_history over the 1000 iterations\n",
        "\n",
        "g = least_squares function you implemented\n",
        "\n",
        "w = [w_0, w_1]  , where w_0 and w_1 are random numbers between -0.1 and 0.1\n",
        "\n",
        "max_its=1000\n",
        "\n",
        "alpha=0.01"
      ]
    },
    {
      "cell_type": "code",
      "execution_count": 86,
      "metadata": {
        "id": "CVWMp82IkBV7",
        "colab": {
          "base_uri": "https://localhost:8080/",
          "height": 472
        },
        "outputId": "15bc8c22-4405-448c-d91f-ccb729dba32f"
      },
      "outputs": [
        {
          "output_type": "display_data",
          "data": {
            "text/plain": [
              "<Figure size 640x480 with 1 Axes>"
            ],
            "image/png": "[encoded data removed]"
          },
          "metadata": {}
        }
      ],
      "source": [
        "#Your code here\n",
        "\n",
        "# Parameters\n",
        "w = np.random.uniform(-0.1, 0.1, 2)  # Random initial weights\n",
        "alpha = 0.01\n",
        "max_its = 1000\n",
        "\n",
        "weight_history1, cost_history1 = gradient_descent(least_squares, alpha, max_its, w, x, y)\n",
        "\n",
        "\n",
        "plt.figure()\n",
        "plt.plot(range(max_its), cost_history1)\n",
        "plt.xlabel(\"Iterations\")\n",
        "plt.ylabel(\"Cost\")\n",
        "plt.title(\"Cost History\")\n",
        "plt.show()"
      ]
    },
    {
      "cell_type": "markdown",
      "metadata": {
        "id": "yKk6QQcxkBV7"
      },
      "source": [
        "Q5) [Part 2]\n",
        "\n",
        "Use the learned weights from above (note that the \"learned\" weights are the ones with the lowest cost) to plot the learned line. You can use the linspace method (shown below) to generate a list of xs that you can use for plotting. You need to generate a y for each of the candidate xs using the learned weights. On the same figure, also plot the scatter plot from Q4.\n"
      ]
    },
    {
      "cell_type": "code",
      "execution_count": 87,
      "metadata": {
        "id": "nxvZtvaKkBV7",
        "colab": {
          "base_uri": "https://localhost:8080/",
          "height": 472
        },
        "outputId": "ba50478b-ba84-4e43-ad44-ce45894f2557"
      },
      "outputs": [
        {
          "output_type": "display_data",
          "data": {
            "text/plain": [
              "<Figure size 640x480 with 1 Axes>"
            ],
            "image/png": "[encoded data removed]"
          },
          "metadata": {}
        }
      ],
      "source": [
        "s = np.linspace(np.min(x),np.max(x))\n",
        "#Your code here\n",
        "\n",
        "final_w = weight_history1[-1]\n",
        "\n",
        "y_predicted = final_w[1] * s + final_w[0]\n",
        "\n",
        "fig, ax = plt.subplots()\n",
        "\n",
        "# Plot the data as a scatter plot ('x' vs. 'y').\n",
        "ax.scatter(x, y, s = 2, color = 'blue')\n",
        "ax.plot(s, y_predicted, color = 'orange')\n",
        "\n",
        "# Add labels and a title.\n",
        "ax.set_xlabel('X')\n",
        "ax.set_ylabel('Y')\n",
        "ax.set_title('Kleibers Law Data')\n",
        "\n",
        "# Show the plot.\n",
        "plt.show()\n"
      ]
    },
    {
      "cell_type": "markdown",
      "metadata": {
        "id": "IkQ9c5UDkBV7"
      },
      "source": [
        "Q6) **[1 points]**  \n",
        "\n",
        "Run the code below to import a dataset. Then, plot a scatter plot of the data (x vs y)."
      ]
    },
    {
      "cell_type": "code",
      "execution_count": 97,
      "metadata": {
        "id": "69-16xUzkBV7",
        "colab": {
          "base_uri": "https://localhost:8080/",
          "height": 472
        },
        "outputId": "257bc47c-f774-4e15-dc21-2ac5a1f4145b"
      },
      "outputs": [
        {
          "output_type": "display_data",
          "data": {
            "text/plain": [
              "<Figure size 640x480 with 1 Axes>"
            ],
            "image/png": "[encoded data removed]"
          },
          "metadata": {}
        }
      ],
      "source": [
        "# load in dataset\n",
        "data = np.loadtxt('/content/drive/MyDrive/HW2/regression_outliers.csv', delimiter = ',')\n",
        "x = data[:-1,:]\n",
        "y = data[-1:,:]\n",
        "#Your code here\n",
        "\n",
        "fig, ax = plt.subplots()\n",
        "\n",
        "ax.scatter(x, y, color = 'red', s = 4)\n",
        "\n",
        "ax.set_xlabel('X')\n",
        "ax.set_ylabel('Y')\n",
        "ax.set_title('Regression Outliers')\n",
        "\n",
        "plt.show()"
      ]
    },
    {
      "cell_type": "markdown",
      "metadata": {
        "id": "JB96CkjHkBV7"
      },
      "source": [
        "Q7) **[10 ponts]**\n",
        "\n",
        " Implement the least absolute deviations function discussed in class. The function should take in an array of weights, w, an array of x's and an array of ys. It should use the model function implemented in Q1  and return a float indicating the total cost."
      ]
    },
    {
      "cell_type": "code",
      "execution_count": 98,
      "metadata": {
        "id": "T8TDcEMzkBV7"
      },
      "outputs": [],
      "source": [
        "def least_absolute_deviations(w,x,y):\n",
        "    #your code here\n",
        "    # same thing as least squares but with absolute value\n",
        "\n",
        "    # use model\n",
        "    y_predicted = model(x, w)\n",
        "\n",
        "    # differences from actual, square them\n",
        "    abs_diff = np.absolute(y - y_predicted)\n",
        "\n",
        "    # aggregate\n",
        "    cost = np.sum(abs_diff) / y.size\n",
        "\n",
        "    return cost\n"
      ]
    },
    {
      "cell_type": "markdown",
      "metadata": {
        "id": "8n5jlQuCkBV7"
      },
      "source": [
        " Q8) **[10 points]**\n",
        "\n",
        "[Part 1] Use the gradient descent function twice to learn two linear models using the new x and y from Q6 using the following parameters and plot the cost_history for both runs on the same plot. Make the plot for the first run blue and the plot for the second run red.\n",
        "\n",
        "Run 1)\n",
        "g = least_squares function\n",
        "\n",
        "w = [1.0,1.0]\n",
        "\n",
        "max_its=100\n",
        "\n",
        "alpha=0.1\n",
        "\n",
        "Run 2)\n",
        "g = least_absoulte_deviations\n",
        "\n",
        "w = [1.0,1.0]\n",
        "\n",
        "max_its=100\n",
        "\n",
        "alpha=0.1\n"
      ]
    },
    {
      "cell_type": "code",
      "source": [
        "# initialize parameters\n",
        "w = np.array([1.0, 1.0])\n",
        "max_its1 = 100\n",
        "alpha1 = 0.1\n",
        "\n",
        "weight_history2, cost_history2 = gradient_descent(least_squares, alpha, max_its, w, x, y)\n",
        "weight_history3, cost_history3 = gradient_descent(least_absolute_deviations, alpha, max_its, w, x, y)\n",
        "\n",
        "fig, ax = plt.subplots()\n",
        "\n",
        "# Plot the cost history as a line graph.\n",
        "ax.plot(cost_history2, label = 'Least Squares', color = 'blue')\n",
        "ax.plot(cost_history3, label = 'Least Absolute Deviations', color = 'red')\n",
        "\n",
        "# Add labels and a title.\n",
        "ax.set_xlabel('Step #')\n",
        "ax.set_ylabel('Cost')\n",
        "ax.set_title('Gradient Descent')\n",
        "ax.legend()\n",
        "\n",
        "# Show the plot.\n",
        "plt.show()\n"
      ],
      "metadata": {
        "colab": {
          "base_uri": "https://localhost:8080/",
          "height": 472
        },
        "id": "qIoHXtqdiFXS",
        "outputId": "852bc472-0617-4f50-87f8-2e1503d14a85"
      },
      "execution_count": 99,
      "outputs": [
        {
          "output_type": "display_data",
          "data": {
            "text/plain": [
              "<Figure size 640x480 with 1 Axes>"
            ],
            "image/png": "[encoded data removed]"
          },
          "metadata": {}
        }
      ]
    },
    {
      "cell_type": "markdown",
      "metadata": {
        "id": "-esXBxqWkBV7"
      },
      "source": [
        "Q8) **[Part 2]**\n",
        "\n",
        " Use the learned weights from above to plot the two learned lines (use same colors as above). You can use the linspace method again to generate a list of xs that you can use. On the same figure, also plot the scatter plot from Q6. Which of these lines look like a better fit to you?\n"
      ]
    },
    {
      "cell_type": "code",
      "execution_count": 100,
      "metadata": {
        "id": "gw-rgSDgkBV8",
        "colab": {
          "base_uri": "https://localhost:8080/",
          "height": 472
        },
        "outputId": "b226dfca-3072-4988-fd1f-1e4a938d846b"
      },
      "outputs": [
        {
          "output_type": "display_data",
          "data": {
            "text/plain": [
              "<Figure size 640x480 with 1 Axes>"
            ],
            "image/png": "[encoded data removed]"
          },
          "metadata": {}
        }
      ],
      "source": [
        "s = np.linspace(np.min(x),np.max(x))\n",
        "\n",
        "final_w_ls = weight_history2[-1]\n",
        "final_w_abs = weight_history3[-1]\n",
        "\n",
        "y_predicted_ls = final_w_ls[1] * s + final_w_ls[0]\n",
        "y_predicted_abs = final_w_abs[1] * s + final_w_abs[0]\n",
        "\n",
        "\n",
        "\n",
        "fig, ax = plt.subplots()\n",
        "\n",
        "ax.scatter(x, y, color = 'red', s = 4)\n",
        "ax.plot(s, y_predicted_ls, label = 'Least Squares')\n",
        "ax.plot(s, y_predicted_abs, label = 'Absolute Deviations')\n",
        "\n",
        "ax.set_xlabel('X')\n",
        "ax.set_ylabel('Y')\n",
        "ax.set_title('Regression Outliers')\n",
        "plt.legend()\n",
        "\n",
        "plt.show()"
      ]
    },
    {
      "cell_type": "markdown",
      "source": [
        "In this case, it seems like the absolute deviations line (orange) is the better fit for the data. The least squares line (blue) skews from the data toward the end, and this is due to the one major outlier in the dataset. As we talked about in class, least squares models are not robust to outliers, because squaring the error amplifies its importance and weight.\n",
        "\n",
        "However, when we construct a model based on absolute deviations, the cost is reduced for the majority of the dataset, while a few outliers still exist. While the least squares model overfits the data, this absolute deviations model is robust to outliers (as can be seen above) and is a better fit overall."
      ],
      "metadata": {
        "id": "q-ByVV1SlebR"
      }
    },
    {
      "cell_type": "markdown",
      "metadata": {
        "id": "ncokUyn-kBV8"
      },
      "source": [
        "Q9) **[10 points]**\n",
        "\n",
        "[Part 1] Implement the mean squared error (MSE) and the mean absolute deviation functions from class. The functions should take in as input an array of actual ys and an array of predicted ys and return the prediction error."
      ]
    },
    {
      "cell_type": "code",
      "execution_count": 101,
      "metadata": {
        "id": "dPIA63CwkBV8"
      },
      "outputs": [],
      "source": [
        "def MSE(y_actual,y_pred):\n",
        "    # compute squared error\n",
        "    error = y_pred - y_actual\n",
        "    squared_error = np.square(error)\n",
        "\n",
        "    # aggregate\n",
        "    error = np.sum(squared_error) / y_actual.size\n",
        "\n",
        "    return error\n",
        "\n",
        "def MAD(y_actual,y_pred):\n",
        "    # compute absolute error\n",
        "    error = y_pred - y_actual\n",
        "    absolute_error = np.absolute(error)\n",
        "\n",
        "    # aggregate\n",
        "    error = np.sum(absolute_error) / y_actual.size\n",
        "\n",
        "    return error\n"
      ]
    },
    {
      "cell_type": "markdown",
      "metadata": {
        "id": "wqIypBsUkBV8"
      },
      "source": [
        "Q9) [Part 2]\n",
        "Use the functions above to report the MSE and MAD for the two models learned in Q8 [Part 1], using the x and y from Q6. You should have 4 values total, two for each model. Which model is doing better? (Note that since you are evaluating the model on the training data, this corresponds to the training error)"
      ]
    },
    {
      "cell_type": "code",
      "execution_count": 104,
      "metadata": {
        "id": "yxp_PfIKkBV8",
        "colab": {
          "base_uri": "https://localhost:8080/"
        },
        "outputId": "eb234b95-f546-4f89-eaf6-9fb63398c03d"
      },
      "outputs": [
        {
          "output_type": "stream",
          "name": "stdout",
          "text": [
            "LEAST SQUARES:\n",
            "MSE: 6.841394300709702\n",
            "MAD: 1.6893691773689157\n",
            "----------------------------\n",
            "ABSOLUTE DEVIATIONS\n",
            "MSE: 9.782884521538625\n",
            "MAD: 1.0911594767311648\n"
          ]
        }
      ],
      "source": [
        "#Your code here\n",
        "final_w_ls = weight_history2[-1]\n",
        "final_w_abs = weight_history3[-1]\n",
        "\n",
        "y_pred_ls = final_w_ls[1] * x + final_w_ls[0]\n",
        "y_pred_abs = final_w_abs[1] * x + final_w_abs[0]\n",
        "\n",
        "# compute mse and mad of ls model\n",
        "mse_ls = MSE(y, y_pred_ls)\n",
        "mad_ls = MAD(y, y_pred_ls)\n",
        "\n",
        "# compute mse and mad of abs_dev model\n",
        "\n",
        "mse_abs = MSE(y, y_pred_abs)\n",
        "mad_abs = MAD(y, y_pred_abs)\n",
        "\n",
        "print(\"LEAST SQUARES:\")\n",
        "print(\"MSE: \" + str(mse_ls))\n",
        "print(\"MAD: \" + str(mad_ls))\n",
        "\n",
        "print(\"----------------------------\")\n",
        "\n",
        "print(\"ABSOLUTE DEVIATIONS\")\n",
        "print(\"MSE: \" + str(mse_abs))\n",
        "print(\"MAD: \" + str(mad_abs))"
      ]
    },
    {
      "cell_type": "markdown",
      "source": [
        "The question of which model is doing better depends on which error metric we use. On one hand, when we use Mean Squared Error, the least squares model does better, because that metric was used in its learning. The effects of the large outlier are somewhat mitigated under MSE for the least squares model.\n",
        "\n",
        "However, when we measure using Mean Absolute Deviations, we conclude that the absolute deviations model is better. Despite the fact that there is a large error from the outlier, the other errors are so small that this model wins out under this metric."
      ],
      "metadata": {
        "id": "5Bx0F174pX40"
      }
    },
    {
      "cell_type": "markdown",
      "metadata": {
        "id": "du6x8r80kBV8"
      },
      "source": [
        "Q10) **[6 points]**\n",
        "\n",
        " Implement the L1 and L2 regularizers from class. Recall the regularizers take in input the weight vector and return a score based on the L1 or L2 norm of the weights"
      ]
    },
    {
      "cell_type": "code",
      "execution_count": 105,
      "metadata": {
        "id": "Yq9t2AFgkBV8"
      },
      "outputs": [],
      "source": [
        "\n",
        "def L2_regularizer(w):\n",
        "    # sum of squared weights\n",
        "    L2 = np.sum(np.square(w))\n",
        "\n",
        "    return L2\n",
        "\n",
        "def L1_regularizer(w):\n",
        "    # sum of absolute weights.\n",
        "    L1 = np.sum(np.absolute(w))\n",
        "\n",
        "    return L1"
      ]
    },
    {
      "cell_type": "markdown",
      "metadata": {
        "id": "rz7SmsPGkBV8"
      },
      "source": [
        "Q11) **[12 points]**\n",
        "\n",
        "Turn the least squares function implemented in Q2 into the Ridge (L2) and Lasso (L1) least squares (covered in class) using the functions implemented in Q10. Recall that $\\lambda$ is used as a hyperparameter to specify the smoothness of the function learned (higher $\\lambda$ leads to simpler and smoother functions whereas lower $\\lambda$ leads to better fitting to the data. $\\lambda=0$ is the same as non-regularized least-squares)"
      ]
    },
    {
      "cell_type": "code",
      "execution_count": null,
      "metadata": {
        "id": "bNvTD0MnkBV8"
      },
      "outputs": [],
      "source": [
        "def ridge(w, x, y, lmbda):\n",
        "    # Compute the cost and regularize via L2.\n",
        "    least_squares_cost = least_squares(w, x, y)\n",
        "    L2_cost = L2_regularizer(w)\n",
        "\n",
        "    # smooth with lambda\n",
        "    cost = least_squares_cost + (lmbda * L2_cost)\n",
        "\n",
        "    return cost\n",
        "\n",
        "def lasso(w, x, y, lmbda):\n",
        "    # Compute the cost and regularize via L1\n",
        "    least_squares_cost = least_squares(w, x, y)\n",
        "    L1_cost = L1_regularizer(w)\n",
        "\n",
        "    # smooth with lambda.\n",
        "    cost = least_squares_cost + (lmbda * L1_cost)\n",
        "\n",
        "    return cost"
      ]
    },
    {
      "cell_type": "markdown",
      "metadata": {
        "id": "KYQe_LtloqME"
      },
      "source": [
        "## For the remaining questions we will work with `weatherHistory.csv` dataset"
      ]
    },
    {
      "cell_type": "markdown",
      "metadata": {
        "id": "wtedowknkBV8"
      },
      "source": [
        "The file 'weatherHistory.csv'has 96,454 lines, each one corresponding to a data point. Each row (i.e., data point), has several columns. Read the data file. Note that the first line is the header describing each column."
      ]
    },
    {
      "cell_type": "code",
      "execution_count": 109,
      "metadata": {
        "id": "mlagemJikBV8",
        "colab": {
          "base_uri": "https://localhost:8080/",
          "height": 756
        },
        "outputId": "d2f24022-8e72-4597-c2f0-6def1978f390"
      },
      "outputs": [
        {
          "output_type": "execute_result",
          "data": {
            "text/plain": [
              "                                  0              1       2   \\\n",
              "0                               Date        Summary  Precip   \n",
              "1      2006-04-01 00:00:00.000 +0200  Partly Cloudy    rain   \n",
              "2      2006-04-01 01:00:00.000 +0200  Partly Cloudy    rain   \n",
              "3      2006-04-01 02:00:00.000 +0200  Mostly Cloudy    rain   \n",
              "4      2006-04-01 03:00:00.000 +0200  Partly Cloudy    rain   \n",
              "...                              ...            ...     ...   \n",
              "96449  2016-09-09 19:00:00.000 +0200  Partly Cloudy    rain   \n",
              "96450  2016-09-09 20:00:00.000 +0200  Partly Cloudy    rain   \n",
              "96451  2016-09-09 21:00:00.000 +0200  Partly Cloudy    rain   \n",
              "96452  2016-09-09 22:00:00.000 +0200  Partly Cloudy    rain   \n",
              "96453  2016-09-09 23:00:00.000 +0200  Partly Cloudy    rain   \n",
              "\n",
              "                       3                     4         5                   6   \\\n",
              "0             Temperature  Apparent_Temperature  Humidity          Wind_Speed   \n",
              "1       9.472222222222221    7.3888888888888875      0.89             14.1197   \n",
              "2       9.355555555555558     7.227777777777776      0.86             14.2646   \n",
              "3       9.377777777777778     9.377777777777778      0.89  3.9284000000000003   \n",
              "4        8.28888888888889     5.944444444444446      0.83             14.1036   \n",
              "...                   ...                   ...       ...                 ...   \n",
              "96449  26.016666666666666    26.016666666666666      0.43  10.996300000000002   \n",
              "96450  24.583333333333332    24.583333333333332      0.48             10.0947   \n",
              "96451   22.03888888888889     22.03888888888889      0.56              8.9838   \n",
              "96452  21.522222222222222    21.522222222222222       0.6             10.5294   \n",
              "96453  20.438888888888894    20.438888888888894      0.61              5.8765   \n",
              "\n",
              "                 7                   8           9         10  \\\n",
              "0      Wind_Bearing          Visibility  Loud_Cover  Pressure   \n",
              "1             251.0  15.826300000000002         0.0   1015.13   \n",
              "2             259.0  15.826300000000002         0.0   1015.63   \n",
              "3             204.0             14.9569         0.0   1015.94   \n",
              "4             269.0  15.826300000000002         0.0   1016.41   \n",
              "...             ...                 ...         ...       ...   \n",
              "96449          31.0                16.1         0.0   1014.36   \n",
              "96450          20.0  15.552600000000002         0.0   1015.16   \n",
              "96451          30.0                16.1         0.0   1015.66   \n",
              "96452          20.0                16.1         0.0   1015.95   \n",
              "96453          39.0  15.520400000000002         0.0   1016.16   \n",
              "\n",
              "                                           11  \n",
              "0                               Daily_Summary  \n",
              "1           Partly cloudy throughout the day.  \n",
              "2           Partly cloudy throughout the day.  \n",
              "3           Partly cloudy throughout the day.  \n",
              "4           Partly cloudy throughout the day.  \n",
              "...                                       ...  \n",
              "96449  Partly cloudy starting in the morning.  \n",
              "96450  Partly cloudy starting in the morning.  \n",
              "96451  Partly cloudy starting in the morning.  \n",
              "96452  Partly cloudy starting in the morning.  \n",
              "96453  Partly cloudy starting in the morning.  \n",
              "\n",
              "[96454 rows x 12 columns]"
            ],
            "text/html": [
              "\n",
              "  <div id=\"df-14e25ac3-de7d-4741-8169-d11c84eaf720\" class=\"colab-df-container\">\n",
              "    <div>\n",
              "<style scoped>\n",
              "    .dataframe tbody tr th:only-of-type {\n",
              "        vertical-align: middle;\n",
              "    }\n",
              "\n",
              "    .dataframe tbody tr th {\n",
              "        vertical-align: top;\n",
              "    }\n",
              "\n",
              "    .dataframe thead th {\n",
              "        text-align: right;\n",
              "    }\n",
              "</style>\n",
              "<table border=\"1\" class=\"dataframe\">\n",
              "  <thead>\n",
              "    <tr style=\"text-align: right;\">\n",
              "      <th></th>\n",
              "      <th>0</th>\n",
              "      <th>1</th>\n",
              "      <th>2</th>\n",
              "      <th>3</th>\n",
              "      <th>4</th>\n",
              "      <th>5</th>\n",
              "      <th>6</th>\n",
              "      <th>7</th>\n",
              "      <th>8</th>\n",
              "      <th>9</th>\n",
              "      <th>10</th>\n",
              "      <th>11</th>\n",
              "    </tr>\n",
              "  </thead>\n",
              "  <tbody>\n",
              "    <tr>\n",
              "      <th>0</th>\n",
              "      <td>Date</td>\n",
              "      <td>Summary</td>\n",
              "      <td>Precip</td>\n",
              "      <td>Temperature</td>\n",
              "      <td>Apparent_Temperature</td>\n",
              "      <td>Humidity</td>\n",
              "      <td>Wind_Speed</td>\n",
              "      <td>Wind_Bearing</td>\n",
              "      <td>Visibility</td>\n",
              "      <td>Loud_Cover</td>\n",
              "      <td>Pressure</td>\n",
              "      <td>Daily_Summary</td>\n",
              "    </tr>\n",
              "    <tr>\n",
              "      <th>1</th>\n",
              "      <td>2006-04-01 00:00:00.000 +0200</td>\n",
              "      <td>Partly Cloudy</td>\n",
              "      <td>rain</td>\n",
              "      <td>9.472222222222221</td>\n",
              "      <td>7.3888888888888875</td>\n",
              "      <td>0.89</td>\n",
              "      <td>14.1197</td>\n",
              "      <td>251.0</td>\n",
              "      <td>15.826300000000002</td>\n",
              "      <td>0.0</td>\n",
              "      <td>1015.13</td>\n",
              "      <td>Partly cloudy throughout the day.</td>\n",
              "    </tr>\n",
              "    <tr>\n",
              "      <th>2</th>\n",
              "      <td>2006-04-01 01:00:00.000 +0200</td>\n",
              "      <td>Partly Cloudy</td>\n",
              "      <td>rain</td>\n",
              "      <td>9.355555555555558</td>\n",
              "      <td>7.227777777777776</td>\n",
              "      <td>0.86</td>\n",
              "      <td>14.2646</td>\n",
              "      <td>259.0</td>\n",
              "      <td>15.826300000000002</td>\n",
              "      <td>0.0</td>\n",
              "      <td>1015.63</td>\n",
              "      <td>Partly cloudy throughout the day.</td>\n",
              "    </tr>\n",
              "    <tr>\n",
              "      <th>3</th>\n",
              "      <td>2006-04-01 02:00:00.000 +0200</td>\n",
              "      <td>Mostly Cloudy</td>\n",
              "      <td>rain</td>\n",
              "      <td>9.377777777777778</td>\n",
              "      <td>9.377777777777778</td>\n",
              "      <td>0.89</td>\n",
              "      <td>3.9284000000000003</td>\n",
              "      <td>204.0</td>\n",
              "      <td>14.9569</td>\n",
              "      <td>0.0</td>\n",
              "      <td>1015.94</td>\n",
              "      <td>Partly cloudy throughout the day.</td>\n",
              "    </tr>\n",
              "    <tr>\n",
              "      <th>4</th>\n",
              "      <td>2006-04-01 03:00:00.000 +0200</td>\n",
              "      <td>Partly Cloudy</td>\n",
              "      <td>rain</td>\n",
              "      <td>8.28888888888889</td>\n",
              "      <td>5.944444444444446</td>\n",
              "      <td>0.83</td>\n",
              "      <td>14.1036</td>\n",
              "      <td>269.0</td>\n",
              "      <td>15.826300000000002</td>\n",
              "      <td>0.0</td>\n",
              "      <td>1016.41</td>\n",
              "      <td>Partly cloudy throughout the day.</td>\n",
              "    </tr>\n",
              "    <tr>\n",
              "      <th>...</th>\n",
              "      <td>...</td>\n",
              "      <td>...</td>\n",
              "      <td>...</td>\n",
              "      <td>...</td>\n",
              "      <td>...</td>\n",
              "      <td>...</td>\n",
              "      <td>...</td>\n",
              "      <td>...</td>\n",
              "      <td>...</td>\n",
              "      <td>...</td>\n",
              "      <td>...</td>\n",
              "      <td>...</td>\n",
              "    </tr>\n",
              "    <tr>\n",
              "      <th>96449</th>\n",
              "      <td>2016-09-09 19:00:00.000 +0200</td>\n",
              "      <td>Partly Cloudy</td>\n",
              "      <td>rain</td>\n",
              "      <td>26.016666666666666</td>\n",
              "      <td>26.016666666666666</td>\n",
              "      <td>0.43</td>\n",
              "      <td>10.996300000000002</td>\n",
              "      <td>31.0</td>\n",
              "      <td>16.1</td>\n",
              "      <td>0.0</td>\n",
              "      <td>1014.36</td>\n",
              "      <td>Partly cloudy starting in the morning.</td>\n",
              "    </tr>\n",
              "    <tr>\n",
              "      <th>96450</th>\n",
              "      <td>2016-09-09 20:00:00.000 +0200</td>\n",
              "      <td>Partly Cloudy</td>\n",
              "      <td>rain</td>\n",
              "      <td>24.583333333333332</td>\n",
              "      <td>24.583333333333332</td>\n",
              "      <td>0.48</td>\n",
              "      <td>10.0947</td>\n",
              "      <td>20.0</td>\n",
              "      <td>15.552600000000002</td>\n",
              "      <td>0.0</td>\n",
              "      <td>1015.16</td>\n",
              "      <td>Partly cloudy starting in the morning.</td>\n",
              "    </tr>\n",
              "    <tr>\n",
              "      <th>96451</th>\n",
              "      <td>2016-09-09 21:00:00.000 +0200</td>\n",
              "      <td>Partly Cloudy</td>\n",
              "      <td>rain</td>\n",
              "      <td>22.03888888888889</td>\n",
              "      <td>22.03888888888889</td>\n",
              "      <td>0.56</td>\n",
              "      <td>8.9838</td>\n",
              "      <td>30.0</td>\n",
              "      <td>16.1</td>\n",
              "      <td>0.0</td>\n",
              "      <td>1015.66</td>\n",
              "      <td>Partly cloudy starting in the morning.</td>\n",
              "    </tr>\n",
              "    <tr>\n",
              "      <th>96452</th>\n",
              "      <td>2016-09-09 22:00:00.000 +0200</td>\n",
              "      <td>Partly Cloudy</td>\n",
              "      <td>rain</td>\n",
              "      <td>21.522222222222222</td>\n",
              "      <td>21.522222222222222</td>\n",
              "      <td>0.6</td>\n",
              "      <td>10.5294</td>\n",
              "      <td>20.0</td>\n",
              "      <td>16.1</td>\n",
              "      <td>0.0</td>\n",
              "      <td>1015.95</td>\n",
              "      <td>Partly cloudy starting in the morning.</td>\n",
              "    </tr>\n",
              "    <tr>\n",
              "      <th>96453</th>\n",
              "      <td>2016-09-09 23:00:00.000 +0200</td>\n",
              "      <td>Partly Cloudy</td>\n",
              "      <td>rain</td>\n",
              "      <td>20.438888888888894</td>\n",
              "      <td>20.438888888888894</td>\n",
              "      <td>0.61</td>\n",
              "      <td>5.8765</td>\n",
              "      <td>39.0</td>\n",
              "      <td>15.520400000000002</td>\n",
              "      <td>0.0</td>\n",
              "      <td>1016.16</td>\n",
              "      <td>Partly cloudy starting in the morning.</td>\n",
              "    </tr>\n",
              "  </tbody>\n",
              "</table>\n",
              "<p>96454 rows × 12 columns</p>\n",
              "</div>\n",
              "    <div class=\"colab-df-buttons\">\n",
              "\n",
              "  <div class=\"colab-df-container\">\n",
              "    <button class=\"colab-df-convert\" onclick=\"convertToInteractive('df-14e25ac3-de7d-4741-8169-d11c84eaf720')\"\n",
              "            title=\"Convert this dataframe to an interactive table.\"\n",
              "            style=\"display:none;\">\n",
              "\n",
              "  <svg xmlns=\"http://www.w3.org/2000/svg\" height=\"24px\" viewBox=\"0 -960 960 960\">\n",
              "    <path d=\"M120-120v-720h720v720H120Zm60-500h600v-160H180v160Zm220 220h160v-160H400v160Zm0 220h160v-160H400v160ZM180-400h160v-160H180v160Zm440 0h160v-160H620v160ZM180-180h160v-160H180v160Zm440 0h160v-160H620v160Z\"/>\n",
              "  </svg>\n",
              "    </button>\n",
              "\n",
              "  <style>\n",
              "    .colab-df-container {\n",
              "      display:flex;\n",
              "      gap: 12px;\n",
              "    }\n",
              "\n",
              "    .colab-df-convert {\n",
              "      background-color: #E8F0FE;\n",
              "      border: none;\n",
              "      border-radius: 50%;\n",
              "      cursor: pointer;\n",
              "      display: none;\n",
              "      fill: #1967D2;\n",
              "      height: 32px;\n",
              "      padding: 0 0 0 0;\n",
              "      width: 32px;\n",
              "    }\n",
              "\n",
              "    .colab-df-convert:hover {\n",
              "      background-color: #E2EBFA;\n",
              "      box-shadow: 0px 1px 2px rgba(60, 64, 67, 0.3), 0px 1px 3px 1px rgba(60, 64, 67, 0.15);\n",
              "      fill: #174EA6;\n",
              "    }\n",
              "\n",
              "    .colab-df-buttons div {\n",
              "      margin-bottom: 4px;\n",
              "    }\n",
              "\n",
              "    [theme=dark] .colab-df-convert {\n",
              "      background-color: #3B4455;\n",
              "      fill: #D2E3FC;\n",
              "    }\n",
              "\n",
              "    [theme=dark] .colab-df-convert:hover {\n",
              "      background-color: #434B5C;\n",
              "      box-shadow: 0px 1px 3px 1px rgba(0, 0, 0, 0.15);\n",
              "      filter: drop-shadow(0px 1px 2px rgba(0, 0, 0, 0.3));\n",
              "      fill: #FFFFFF;\n",
              "    }\n",
              "  </style>\n",
              "\n",
              "    <script>\n",
              "      const buttonEl =\n",
              "        document.querySelector('#df-14e25ac3-de7d-4741-8169-d11c84eaf720 button.colab-df-convert');\n",
              "      buttonEl.style.display =\n",
              "        google.colab.kernel.accessAllowed ? 'block' : 'none';\n",
              "\n",
              "      async function convertToInteractive(key) {\n",
              "        const element = document.querySelector('#df-14e25ac3-de7d-4741-8169-d11c84eaf720');\n",
              "        const dataTable =\n",
              "          await google.colab.kernel.invokeFunction('convertToInteractive',\n",
              "                                                    [key], {});\n",
              "        if (!dataTable) return;\n",
              "\n",
              "        const docLinkHtml = 'Like what you see? Visit the ' +\n",
              "          '<a target=\"_blank\" href=https://colab.research.google.com/notebooks/data_table.ipynb>data table notebook</a>'\n",
              "          + ' to learn more about interactive tables.';\n",
              "        element.innerHTML = '';\n",
              "        dataTable['output_type'] = 'display_data';\n",
              "        await google.colab.output.renderOutput(dataTable, element);\n",
              "        const docLink = document.createElement('div');\n",
              "        docLink.innerHTML = docLinkHtml;\n",
              "        element.appendChild(docLink);\n",
              "      }\n",
              "    </script>\n",
              "  </div>\n",
              "\n",
              "\n",
              "<div id=\"df-9beefbb2-529e-437a-8501-3bee6dca0d98\">\n",
              "  <button class=\"colab-df-quickchart\" onclick=\"quickchart('df-9beefbb2-529e-437a-8501-3bee6dca0d98')\"\n",
              "            title=\"Suggest charts.\"\n",
              "            style=\"display:none;\">\n",
              "\n",
              "<svg xmlns=\"http://www.w3.org/2000/svg\" height=\"24px\"viewBox=\"0 0 24 24\"\n",
              "     width=\"24px\">\n",
              "    <g>\n",
              "        <path d=\"M19 3H5c-1.1 0-2 .9-2 2v14c0 1.1.9 2 2 2h14c1.1 0 2-.9 2-2V5c0-1.1-.9-2-2-2zM9 17H7v-7h2v7zm4 0h-2V7h2v10zm4 0h-2v-4h2v4z\"/>\n",
              "    </g>\n",
              "</svg>\n",
              "  </button>\n",
              "\n",
              "<style>\n",
              "  .colab-df-quickchart {\n",
              "      --bg-color: #E8F0FE;\n",
              "      --fill-color: #1967D2;\n",
              "      --hover-bg-color: #E2EBFA;\n",
              "      --hover-fill-color: #174EA6;\n",
              "      --disabled-fill-color: #AAA;\n",
              "      --disabled-bg-color: #DDD;\n",
              "  }\n",
              "\n",
              "  [theme=dark] .colab-df-quickchart {\n",
              "      --bg-color: #3B4455;\n",
              "      --fill-color: #D2E3FC;\n",
              "      --hover-bg-color: #434B5C;\n",
              "      --hover-fill-color: #FFFFFF;\n",
              "      --disabled-bg-color: #3B4455;\n",
              "      --disabled-fill-color: #666;\n",
              "  }\n",
              "\n",
              "  .colab-df-quickchart {\n",
              "    background-color: var(--bg-color);\n",
              "    border: none;\n",
              "    border-radius: 50%;\n",
              "    cursor: pointer;\n",
              "    display: none;\n",
              "    fill: var(--fill-color);\n",
              "    height: 32px;\n",
              "    padding: 0;\n",
              "    width: 32px;\n",
              "  }\n",
              "\n",
              "  .colab-df-quickchart:hover {\n",
              "    background-color: var(--hover-bg-color);\n",
              "    box-shadow: 0 1px 2px rgba(60, 64, 67, 0.3), 0 1px 3px 1px rgba(60, 64, 67, 0.15);\n",
              "    fill: var(--button-hover-fill-color);\n",
              "  }\n",
              "\n",
              "  .colab-df-quickchart-complete:disabled,\n",
              "  .colab-df-quickchart-complete:disabled:hover {\n",
              "    background-color: var(--disabled-bg-color);\n",
              "    fill: var(--disabled-fill-color);\n",
              "    box-shadow: none;\n",
              "  }\n",
              "\n",
              "  .colab-df-spinner {\n",
              "    border: 2px solid var(--fill-color);\n",
              "    border-color: transparent;\n",
              "    border-bottom-color: var(--fill-color);\n",
              "    animation:\n",
              "      spin 1s steps(1) infinite;\n",
              "  }\n",
              "\n",
              "  @keyframes spin {\n",
              "    0% {\n",
              "      border-color: transparent;\n",
              "      border-bottom-color: var(--fill-color);\n",
              "      border-left-color: var(--fill-color);\n",
              "    }\n",
              "    20% {\n",
              "      border-color: transparent;\n",
              "      border-left-color: var(--fill-color);\n",
              "      border-top-color: var(--fill-color);\n",
              "    }\n",
              "    30% {\n",
              "      border-color: transparent;\n",
              "      border-left-color: var(--fill-color);\n",
              "      border-top-color: var(--fill-color);\n",
              "      border-right-color: var(--fill-color);\n",
              "    }\n",
              "    40% {\n",
              "      border-color: transparent;\n",
              "      border-right-color: var(--fill-color);\n",
              "      border-top-color: var(--fill-color);\n",
              "    }\n",
              "    60% {\n",
              "      border-color: transparent;\n",
              "      border-right-color: var(--fill-color);\n",
              "    }\n",
              "    80% {\n",
              "      border-color: transparent;\n",
              "      border-right-color: var(--fill-color);\n",
              "      border-bottom-color: var(--fill-color);\n",
              "    }\n",
              "    90% {\n",
              "      border-color: transparent;\n",
              "      border-bottom-color: var(--fill-color);\n",
              "    }\n",
              "  }\n",
              "</style>\n",
              "\n",
              "  <script>\n",
              "    async function quickchart(key) {\n",
              "      const quickchartButtonEl =\n",
              "        document.querySelector('#' + key + ' button');\n",
              "      quickchartButtonEl.disabled = true;  // To prevent multiple clicks.\n",
              "      quickchartButtonEl.classList.add('colab-df-spinner');\n",
              "      try {\n",
              "        const charts = await google.colab.kernel.invokeFunction(\n",
              "            'suggestCharts', [key], {});\n",
              "      } catch (error) {\n",
              "        console.error('Error during call to suggestCharts:', error);\n",
              "      }\n",
              "      quickchartButtonEl.classList.remove('colab-df-spinner');\n",
              "      quickchartButtonEl.classList.add('colab-df-quickchart-complete');\n",
              "    }\n",
              "    (() => {\n",
              "      let quickchartButtonEl =\n",
              "        document.querySelector('#df-9beefbb2-529e-437a-8501-3bee6dca0d98 button');\n",
              "      quickchartButtonEl.style.display =\n",
              "        google.colab.kernel.accessAllowed ? 'block' : 'none';\n",
              "    })();\n",
              "  </script>\n",
              "</div>\n",
              "    </div>\n",
              "  </div>\n"
            ]
          },
          "metadata": {},
          "execution_count": 109
        }
      ],
      "source": [
        "#Your code here\n",
        "data = np.loadtxt('/content/drive/MyDrive/HW2/weatherHistory.csv', delimiter = ',', dtype = str)\n",
        "\n",
        "pd.DataFrame(data)\n",
        "\n"
      ]
    },
    {
      "cell_type": "markdown",
      "metadata": {
        "id": "BhEVKhbEkBV8"
      },
      "source": [
        " Use the data above to set y to be the temperatures and X to be the following columns (in order): [Apparent_Temperature, Humidity, Wind_Speed, Wind_Bearing, Visibility, Pressure] Basically, we want to see whether we can predict the temperature, using the features in X."
      ]
    },
    {
      "cell_type": "code",
      "execution_count": 114,
      "metadata": {
        "id": "H2J0qIxbkBV8",
        "colab": {
          "base_uri": "https://localhost:8080/"
        },
        "outputId": "0ce93966-82f4-4dc0-ebb3-69ec107ca14a"
      },
      "outputs": [
        {
          "output_type": "stream",
          "name": "stdout",
          "text": [
            "['Date' 'Summary' 'Precip' 'Temperature' 'Apparent_Temperature' 'Humidity'\n",
            " 'Wind_Speed' 'Wind_Bearing' 'Visibility' 'Loud_Cover' 'Pressure'\n",
            " 'Daily_Summary']\n"
          ]
        }
      ],
      "source": [
        "#Your code here\n",
        "print(data[0])\n",
        "# so the fourth column (idx 3) is the temperature, and other relevant columns are [4, 5, 6, 7, 8, 10]\n",
        "\n",
        "Y = data[1:, 3].astype(float)\n",
        "X = data[1:, [4, 5, 6, 7, 8, 10]].astype(float)\n",
        "\n",
        "\n"
      ]
    },
    {
      "cell_type": "markdown",
      "metadata": {
        "id": "4WAABQ8xkBV8"
      },
      "source": [
        "We are now going to using a well-known ML library called sklearn. If you do not have it installed, please do so using this instruction: https://scikit-learn.org/stable/install.html\n",
        "\n",
        "sklearn comes with many models already implemented, below we import the standard linear regression, Ridge, and Lasso models from sklearn. We also import a method that can divide our data into train/test sets. Please run the cell below."
      ]
    },
    {
      "cell_type": "code",
      "execution_count": 115,
      "metadata": {
        "id": "sdXG25m_kBV9"
      },
      "outputs": [],
      "source": [
        "from sklearn.linear_model import LinearRegression, Ridge, Lasso\n",
        "from sklearn.model_selection import train_test_split"
      ]
    },
    {
      "cell_type": "markdown",
      "metadata": {
        "id": "L4uecmO2kBV9"
      },
      "source": [
        "This library is very easy to use. We briefly went over it in the class but please use the API and user guide  ( https://scikit-learn.org) to learn exactly how to use this library.\n",
        "\n",
        "For instance, learning a linear regression model using sklearn can be done in two lines:\n",
        "\n",
        "linearModel = LinearRegression()\n",
        "\n",
        "linearModel.fit(x_train, y_train)"
      ]
    },
    {
      "cell_type": "markdown",
      "metadata": {
        "id": "M8j2x8P8kBWM"
      },
      "source": [
        "Use the train_test_split to divide your modified data into 80% train, 20% test."
      ]
    },
    {
      "cell_type": "code",
      "execution_count": 116,
      "metadata": {
        "id": "o8xS-wB4kBWM"
      },
      "outputs": [],
      "source": [
        "#Your code here\n",
        "\n",
        "X_train, X_test, Y_train, Y_test = train_test_split(X, Y, test_size=0.2, random_state = 0)\n"
      ]
    },
    {
      "cell_type": "markdown",
      "metadata": {
        "id": "B_j-KBBtkBWM"
      },
      "source": [
        "Q12) **[8 points]**\n",
        "\n",
        "Use sklearn to train a LinearRegression model using the data above. Report the performance of the model on the test data (use sklearn's MSE implementation: https://scikit-learn.org/stable/modules/generated/sklearn.metrics.mean_squared_error.html). Note that the .predict method can be used to get the y_predictions for the test xs."
      ]
    },
    {
      "cell_type": "code",
      "execution_count": 120,
      "metadata": {
        "id": "gq9QBuhFkBWN",
        "colab": {
          "base_uri": "https://localhost:8080/"
        },
        "outputId": "ec1834d7-8ee3-47ba-80dd-ace7814c59fa"
      },
      "outputs": [
        {
          "output_type": "stream",
          "name": "stdout",
          "text": [
            "MSE Error for LR: 0.9000557948711271\n"
          ]
        }
      ],
      "source": [
        "from sklearn.metrics import mean_squared_error\n",
        "#Your code here\n",
        "\n",
        "# initialize, fit, predict\n",
        "lr_model = LinearRegression()\n",
        "lr_model.fit(X_train, Y_train)\n",
        "lr_predictions = lr_model.predict(X_test)\n",
        "\n",
        "# print error\n",
        "print(\"MSE Error for LR: \" + str(mean_squared_error(Y_test, lr_predictions)))\n"
      ]
    },
    {
      "cell_type": "markdown",
      "metadata": {
        "id": "p1JSq3k2kBWN"
      },
      "source": [
        "Q13) **[7 points]**\n",
        "\n",
        "Repeat Q12 but instead of LinearRegression, use the Ridge and Lasso functions. You can keep the default alpha (note that what we called lambda in the class, the hyperparameter for regularization, is called alpha in sklearn. It is the same thing).\n",
        "\n",
        "Print the learned parameters for the Ridge and Lasso models (using .coef_). Note that the parameters below correspond to the feature vector ( [Apparent_Temperature, Humidity, Wind_Speed, Wind_Bearing, Visibility, Pressure]), in order. I.e., the first value corresponds to \"Apparent_Temperature\", etc. What is the difference between the ridge and lasso parameters? Which features, if any, have been eliminated by lasso?"
      ]
    },
    {
      "cell_type": "code",
      "execution_count": 125,
      "metadata": {
        "id": "ymHn9lMlkBWN",
        "colab": {
          "base_uri": "https://localhost:8080/"
        },
        "outputId": "49ba1883-e14b-42d8-c1e2-738d12e84919"
      },
      "outputs": [
        {
          "output_type": "stream",
          "name": "stdout",
          "text": [
            "MSE: \n",
            "Ridge: 0.9000555993918364\n",
            "Lasso: 0.982953279925296\n",
            "\n",
            "--------------------------\n",
            "\n",
            "Coefficients: \n",
            "Ridge: [ 8.72193462e-01 -1.42439143e+00  7.95286045e-02 -3.96351761e-04\n",
            "  8.51571883e-03 -2.33032827e-04]\n",
            "Lasso: [ 8.79998461e-01 -0.00000000e+00  6.86817693e-02 -2.42716740e-04\n",
            "  0.00000000e+00 -1.80316383e-04]\n"
          ]
        }
      ],
      "source": [
        "#Your code here\n",
        "\n",
        "print(\"MSE: \")\n",
        "\n",
        "# Ridge\n",
        "ridge_model = Ridge()\n",
        "ridge_model.fit(X_train, Y_train)\n",
        "\n",
        "ridge_predict = ridge_model.predict(X_test)\n",
        "print(\"Ridge: \" + str(mean_squared_error(Y_test, ridge_predict)))\n",
        "\n",
        "# Lasso\n",
        "lasso_model = Lasso()\n",
        "lasso_model.fit(X_train, Y_train)\n",
        "\n",
        "lasso_predict = lasso_model.predict(X_test)\n",
        "print(\"Lasso: \" + str(mean_squared_error(Y_test, lasso_predict)))\n",
        "\n",
        "print()\n",
        "print(\"--------------------------\")\n",
        "print()\n",
        "\n",
        "# print coefficients\n",
        "print(\"Coefficients: \")\n",
        "print(\"Ridge: \" + str(ridge_model.coef_))\n",
        "print(\"Lasso: \" + str(lasso_model.coef_))\n",
        "\n"
      ]
    },
    {
      "cell_type": "markdown",
      "source": [
        "It becomes clear after viewing the Ridge and Lasso parameters that some Lasso parameters are eliminated, given a coefficient of 0, while all Ridge parameters are non-zero. Here, the second and fifth parameters are eliminated by Lasso, which correspond to `Humidity` and `Visibility`. In the end, however, the Ridge model resulted in a lower MSE than the Lasso model."
      ],
      "metadata": {
        "id": "pdoptO_XwKWR"
      }
    }
  ],
  "metadata": {
    "colab": {
      "provenance": []
    },
    "kernelspec": {
      "display_name": "Python 3 (ipykernel)",
      "language": "python",
      "name": "python3"
    },
    "language_info": {
      "codemirror_mode": {
        "name": "ipython",
        "version": 3
      },
      "file_extension": ".py",
      "mimetype": "text/x-python",
      "name": "python",
      "nbconvert_exporter": "python",
      "pygments_lexer": "ipython3",
      "version": "3.10.8"
    }
  },
  "nbformat": 4,
  "nbformat_minor": 0
}