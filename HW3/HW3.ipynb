{
 "cells": [
  {
   "cell_type": "markdown",
   "metadata": {
    "id": "T4QpN207Fg5a"
   },
   "source": [
    "# COSC 74 - Homework 3\n",
    "## Nikhil Pande\n"
   ]
  },
  {
   "cell_type": "markdown",
   "metadata": {
    "id": "7flPLB_W_pRw"
   },
   "source": [
    "Please run the cell below to import libraries needed for this HW. Please use the autograd numpy, otherwise you will have issues. Please remember to always use the np library for mathematical functions (e.g., np.log, np.exp, np.sum, etc)"
   ]
  },
  {
   "cell_type": "code",
   "execution_count": 221,
   "metadata": {
    "id": "52dyLKp8_pRx"
   },
   "outputs": [],
   "source": [
    "from autograd import grad\n",
    "import autograd.numpy as np\n",
    "import matplotlib.pyplot as plt\n",
    "%matplotlib inline"
   ]
  },
  {
   "cell_type": "markdown",
   "metadata": {
    "id": "v8UJtvmB_pRy"
   },
   "source": [
    "Q1) [5 points] Implement the sigmod funcation discussed in class. The function takes a value, x, as input and returns the sigmoid function applied to the value."
   ]
  },
  {
   "cell_type": "code",
   "execution_count": 222,
   "metadata": {
    "id": "LKNQLImi_pRy"
   },
   "outputs": [],
   "source": [
    "def sigmoid(x):\n",
    "    #Your code here\n",
    "    return (1)/(1+np.exp(0-x))"
   ]
  },
  {
   "cell_type": "markdown",
   "metadata": {
    "id": "X-ft-9-B_pRy"
   },
   "source": [
    "Q2) [20 points] Implement the logistic regression model and the cross entropy cost discussed in class. Note that the logistic regression model relies on the sigmoid function (which you have implemented above) and the linear  model (which you have implemented in HW2). You can use the linear model from HW2 for this problem. Similar to the least-squares cost from HW2, the cross entropy cost takes in as input an array of weights, w, an array of x's and an array of ys and return a float indicating the total cost."
   ]
  },
  {
   "cell_type": "code",
   "execution_count": 223,
   "metadata": {
    "id": "FxFHCq6A_pRy"
   },
   "outputs": [],
   "source": [
    "#Your linear model from HW2\n",
    "def model(x,w):\n",
    "    # dot product\n",
    "    y = np.dot(x.T, w[1:]) + w[0]\n",
    "    return y\n",
    "\n",
    "#The logistic regression cross entropy cost\n",
    "def cross_entropy(w,x,y):\n",
    "    cost=-(1/float(y.size))*np.sum(y*np.log(sigmoid(model(x,w)))+(1-y)*np.log(1-sigmoid(model(x,w))))\n",
    "\n",
    "    return cost"
   ]
  },
  {
   "cell_type": "markdown",
   "metadata": {
    "id": "fb6514tF_pRy"
   },
   "source": [
    "Run the code below to read a data file and plot a scatter plot of x vs y."
   ]
  },
  {
   "cell_type": "code",
   "execution_count": 224,
   "metadata": {
    "id": "IflAu39E_pRy"
   },
   "outputs": [
    {
     "data": {
      "text/plain": [
       "<matplotlib.collections.PathCollection at 0x15edbebf0>"
      ]
     },
     "execution_count": 224,
     "metadata": {},
     "output_type": "execute_result"
    },
    {
     "data": {
      "image/png": "[encoded data removed]",
      "text/plain": [
       "<Figure size 640x480 with 1 Axes>"
      ]
     },
     "metadata": {},
     "output_type": "display_data"
    }
   ],
   "source": [
    "csvname = '2d_classification_data_v1_entropy.csv'\n",
    "data = np.loadtxt(csvname,delimiter = ',')\n",
    "x = data[:-1,:]\n",
    "y = data[-1:,:]\n",
    "\n",
    "plt.scatter(x,y)"
   ]
  },
  {
   "cell_type": "code",
   "execution_count": 225,
   "metadata": {},
   "outputs": [
    {
     "name": "stdout",
     "output_type": "stream",
     "text": [
      "[[0. 0. 0. 0. 0. 1. 1. 1. 1. 1. 1.]]\n"
     ]
    }
   ],
   "source": [
    "print(y)"
   ]
  },
  {
   "cell_type": "markdown",
   "metadata": {
    "id": "OTVuxR0r_pRy"
   },
   "source": [
    "Q3) [10 points] Move the gradient descent function from HW2. Run the function using the cross_entropy cost and the x and y from above. The parameters should be set to: max_its=1500,w=[3.0,3.0 ], and alpha=1. Save the cost and weight history returned by the gradient descent function. Plot the cost history.\n"
   ]
  },
  {
   "cell_type": "code",
   "execution_count": 226,
   "metadata": {
    "id": "Uh_STKBu_pRy"
   },
   "outputs": [],
   "source": [
    "##gradient descent from HW2\n",
    "def gradient_descent(g,alpha,max_its,w,x,y):\n",
    "    \n",
    "    # gradient.\n",
    "    gradient = grad(g) # This is how you use the autograd library to find the gradient of a function.\n",
    "\n",
    "    # Initialize the weight and cost history.\n",
    "    weight_history = []\n",
    "    cost_history = []\n",
    "\n",
    "    weight_history.append(w)\n",
    "    cost_history.append(g(w, x, y))\n",
    "\n",
    "    # Apply the gradient descent, according to the slope (determined by the 'weight', gradient, and alpha).\n",
    "    for k in range(1, max_its):\n",
    "      weight_history.append(weight_history[k - 1] - alpha * gradient(weight_history[k - 1], x, y))\n",
    "      cost_history.append(g(weight_history[k], x, y))\n",
    "\n",
    "    return weight_history, cost_history\n",
    "\n",
    "\n"
   ]
  },
  {
   "cell_type": "code",
   "execution_count": 227,
   "metadata": {
    "id": "ddCJ7iBZ_pRz"
   },
   "outputs": [
    {
     "data": {
      "text/plain": [
       "[<matplotlib.lines.Line2D at 0x15d9caa40>]"
      ]
     },
     "execution_count": 227,
     "metadata": {},
     "output_type": "execute_result"
    },
    {
     "data": {
      "image/png": "[encoded data removed]",
      "text/plain": [
       "<Figure size 640x480 with 1 Axes>"
      ]
     },
     "metadata": {},
     "output_type": "display_data"
    }
   ],
   "source": [
    "# gradient descent parameters\n",
    "alpha = 1.0\n",
    "max_its = 1500\n",
    "w = np.array([3.0, 3.0])\n",
    "\n",
    "##Call the gradient_descent function here\n",
    "weight_history, cost_history = gradient_descent(cross_entropy,alpha,max_its,w,x,y)\n",
    "\n",
    "\n",
    "##Plot the cost history here\n",
    "plt.plot(range(1500), cost_history)\n"
   ]
  },
  {
   "cell_type": "markdown",
   "metadata": {
    "id": "xBgikNKF_pRz"
   },
   "source": [
    "Q4) [10 points] Implement a logistic regression classifier that takes in the learned weights and x as input and returns the probability of the positive class (note that this is just the output of the sigmoid applied to the linear combination of the x and w)"
   ]
  },
  {
   "cell_type": "code",
   "execution_count": 228,
   "metadata": {
    "id": "958J3ZPY_pRz"
   },
   "outputs": [],
   "source": [
    "def logistic_regression(learned_w,x):\n",
    "    positive_class_prob = sigmoid(model(x, learned_w))\n",
    "    return positive_class_prob"
   ]
  },
  {
   "cell_type": "markdown",
   "metadata": {
    "id": "dRqczx_B_pRz"
   },
   "source": [
    "Q5) [5 points] Use the learned weights from the last gradient descent run and the logistic regression function implemented above to plot the learned curve. You can use the linspace method (shown below) to generate a list of xs that you can use. You need to generate a y for each of the candidate xs using the logistic regression function and the learned weights. On the same figure, also plot the scatter plot from before.\n"
   ]
  },
  {
   "cell_type": "code",
   "execution_count": 229,
   "metadata": {
    "id": "CNMBKyh8_pRz"
   },
   "outputs": [
    {
     "data": {
      "text/plain": [
       "[<matplotlib.lines.Line2D at 0x148b78400>]"
      ]
     },
     "execution_count": 229,
     "metadata": {},
     "output_type": "execute_result"
    },
    {
     "data": {
      "image/png": "[encoded data removed]",
      "text/plain": [
       "<Figure size 640x480 with 1 Axes>"
      ]
     },
     "metadata": {},
     "output_type": "display_data"
    }
   ],
   "source": [
    "s = np.linspace(np.min(x),np.max(x))\n",
    "# #Your code here\n",
    "\n",
    "# the optimal weight is the final one\n",
    "min_weight=weight_history[max_its-1]\n",
    "\n",
    "fit= sigmoid(min_weight[0]+s*min_weight[1])\n",
    "\n",
    "# plot\n",
    "plt.figure()\n",
    "plt.scatter(x,y,color='red')\n",
    "plt.plot(s,fit,color='blue')\n",
    "\n"
   ]
  },
  {
   "cell_type": "markdown",
   "metadata": {
    "id": "v46mI5OD_pRz"
   },
   "source": [
    "Q6) [5 points] Slightly modify the logistic regression model above so that it returns a 1 or 0 based on the specified threshold."
   ]
  },
  {
   "cell_type": "code",
   "execution_count": 230,
   "metadata": {
    "id": "h4Q_Rb89_pRz"
   },
   "outputs": [],
   "source": [
    "def logistic_regression_modified(learned_w,x, threshold):\n",
    "    arr = logistic_regression(learned_w, x)\n",
    "    class_label = []\n",
    "    \n",
    "    # iterate through array, appending 1 or 0\n",
    "    for i in range(len(arr)):\n",
    "        if (arr[i]) > threshold:\n",
    "            class_label.append(1)\n",
    "        else:\n",
    "            class_label.append(0)\n",
    "        \n",
    "        \n",
    "    return class_label"
   ]
  },
  {
   "cell_type": "markdown",
   "metadata": {
    "id": "Suo1vYlo_pRz"
   },
   "source": [
    "Q7) [15 points] Write a function (called evaluate) that takes in actual and predicted ys (for a binary classification problem) and return a confusion matrix and the accuracy. Use the modified logistic regression model and the evaluate function below to report the confusion matrix and accuracy for the x and y used for our training at a threshold of 0.5.  "
   ]
  },
  {
   "cell_type": "code",
   "execution_count": 231,
   "metadata": {
    "id": "L3FaIpHI_pR0"
   },
   "outputs": [
    {
     "data": {
      "text/plain": [
       "(0, 0, 6, 5, 1.0)"
      ]
     },
     "execution_count": 231,
     "metadata": {},
     "output_type": "execute_result"
    }
   ],
   "source": [
    "def evaluate(y_actual,y_pred):\n",
    "    false_positive = 0\n",
    "    false_negative = 0\n",
    "    true_positive = 0\n",
    "    true_negative = 0\n",
    "    for i in range(len(y_pred)):\n",
    "        if (y_actual[0][i] == 1):\n",
    "            if (y_pred[i] == 1):\n",
    "                true_positive += 1\n",
    "            else:\n",
    "                false_negative += 1\n",
    "        else:\n",
    "            if (y_pred[i] == 1):\n",
    "                false_positive += 1\n",
    "            else:\n",
    "                true_negative += 1\n",
    "                \n",
    "    accuracy = (true_positive + true_negative) / (true_positive + true_negative + false_positive + false_negative)\n",
    "            \n",
    "    \n",
    "    ## Your code here\n",
    "    return false_positive, false_negative, true_positive, true_negative, accuracy\n",
    "\n",
    "evaluate(y,logistic_regression_modified(min_weight,x, 0.5))\n"
   ]
  },
  {
   "cell_type": "markdown",
   "metadata": {
    "id": "ZVD4Z3Ub_pR0"
   },
   "source": [
    "Q8) [20 points] Implement the perceptron cost function from the class (the softmax version). Note that the perceptron cost also uses the linear model (the model function from question 2)."
   ]
  },
  {
   "cell_type": "code",
   "execution_count": 232,
   "metadata": {
    "id": "dxEGYSoP_pR0"
   },
   "outputs": [],
   "source": [
    "def perceptron_cost(w,x,y):\n",
    "   #Your code here\n",
    "#     cost = np.sum(np.log(1 + np.exp(1 - y*model(x, w))))\n",
    "    \n",
    "    cost = np.sum(np.log(1 + np.exp((-y)*model(x, w))))\n",
    "\n",
    "    return cost"
   ]
  },
  {
   "cell_type": "markdown",
   "metadata": {
    "id": "lhYnvgTY_pR0"
   },
   "source": [
    "Q9) [10 points]\n",
    "* Run gradient descent function using the perceptron cost and the x and y from above and the parameters set to: max_its=1500,w=[1.0,1.0], and alpha=1.0.\n",
    "* Save the cost and weight history returned by the gradient descent function.\n",
    "* Plot the cost history.\n",
    "* Answer: Which cost seems to do better on this dataset? Why do think that is?\n"
   ]
  },
  {
   "cell_type": "code",
   "execution_count": 233,
   "metadata": {
    "id": "877mY-4g_pR0"
   },
   "outputs": [
    {
     "data": {
      "text/plain": [
       "[<matplotlib.lines.Line2D at 0x15f10fd30>]"
      ]
     },
     "execution_count": 233,
     "metadata": {},
     "output_type": "execute_result"
    },
    {
     "data": {
      "image/png": "[encoded data removed]",
      "text/plain": [
       "<Figure size 640x480 with 1 Axes>"
      ]
     },
     "metadata": {},
     "output_type": "display_data"
    },
    {
     "data": {
      "image/png": "[encoded data removed]",
      "text/plain": [
       "<Figure size 640x480 with 1 Axes>"
      ]
     },
     "metadata": {},
     "output_type": "display_data"
    }
   ],
   "source": [
    "# gd parameters\n",
    "alpha = 1.0\n",
    "max_its = 1500\n",
    "w = np.array([1.0, 1.0])\n",
    "\n",
    "##Call the gradient_descent function here\n",
    "weight1, cost1 = gradient_descent(perceptron_cost, alpha, max_its, w, x, y)\n",
    "\n",
    "\n",
    "\n",
    "##Plot the cost history here\n",
    "plt.plot(range(1500), cost1)\n",
    "\n",
    "\n",
    "##PLOT learned curve to see model performance\n",
    "s = np.linspace(np.min(x),np.max(x))\n",
    "\n",
    "# the optimal weight is the final one\n",
    "min_weight=weight1[max_its-1]\n",
    "\n",
    "fit= sigmoid(min_weight[0]+s*min_weight[1])\n",
    "\n",
    "# plot\n",
    "plt.figure()\n",
    "plt.scatter(x,y,color='red')\n",
    "plt.plot(s,fit,color='blue')"
   ]
  },
  {
   "cell_type": "code",
   "execution_count": 234,
   "metadata": {},
   "outputs": [
    {
     "data": {
      "text/plain": [
       "array([[63.,  1.,  3., ...,  0.,  1.,  1.],\n",
       "       [37.,  1.,  2., ...,  0.,  2.,  1.],\n",
       "       [41.,  0.,  1., ...,  0.,  2.,  1.],\n",
       "       ...,\n",
       "       [68.,  1.,  0., ...,  2.,  3.,  0.],\n",
       "       [57.,  1.,  0., ...,  1.,  3.,  0.],\n",
       "       [57.,  0.,  1., ...,  1.,  2.,  0.]])"
      ]
     },
     "execution_count": 234,
     "metadata": {},
     "output_type": "execute_result"
    }
   ],
   "source": [
    "heart"
   ]
  },
  {
   "cell_type": "markdown",
   "metadata": {},
   "source": [
    "### Answer:\n",
    "The cross entropy model seems to do a lot better on this dataset, likely because our data assumes a non-linear shape. In other words, non-linear regression models this data well, so the linear boundary will work well."
   ]
  },
  {
   "cell_type": "markdown",
   "metadata": {
    "id": "qGyY2koB_pR0"
   },
   "source": [
    "Q10) [11 points]  The file 'heart.csv' has 304 lines, each one corresponding to a data point. Each row (i.e., data point), has several columns.\n",
    "\n",
    "* Read the data file. (Note that the first line is the header describing each column.)\n",
    "* Use the data above to set y to be the \"target\" and X to be the remaining columns.\n",
    "* Split your data into 80% train 20% test using train_test_split.\n",
    "* Use sklearn to fit a logistic regression model on your training set. Use all the default parameters. Do not evaluate at this point. (You can find out about sklearn logistic regression here: https://scikit-learn.org/stable/modules/generated/sklearn.linear_model.LogisticRegression.html)"
   ]
  },
  {
   "cell_type": "code",
   "execution_count": 235,
   "metadata": {
    "id": "lJ6qvvgw_pR0"
   },
   "outputs": [
    {
     "data": {
      "text/html": [
       "<style>#sk-container-id-15 {color: black;}#sk-container-id-15 pre{padding: 0;}#sk-container-id-15 div.sk-toggleable {background-color: white;}#sk-container-id-15 label.sk-toggleable__label {cursor: pointer;display: block;width: 100%;margin-bottom: 0;padding: 0.3em;box-sizing: border-box;text-align: center;}#sk-container-id-15 label.sk-toggleable__label-arrow:before {content: \"▸\";float: left;margin-right: 0.25em;color: #696969;}#sk-container-id-15 label.sk-toggleable__label-arrow:hover:before {color: black;}#sk-container-id-15 div.sk-estimator:hover label.sk-toggleable__label-arrow:before {color: black;}#sk-container-id-15 div.sk-toggleable__content {max-height: 0;max-width: 0;overflow: hidden;text-align: left;background-color: #f0f8ff;}#sk-container-id-15 div.sk-toggleable__content pre {margin: 0.2em;color: black;border-radius: 0.25em;background-color: #f0f8ff;}#sk-container-id-15 input.sk-toggleable__control:checked~div.sk-toggleable__content {max-height: 200px;max-width: 100%;overflow: auto;}#sk-container-id-15 input.sk-toggleable__control:checked~label.sk-toggleable__label-arrow:before {content: \"▾\";}#sk-container-id-15 div.sk-estimator input.sk-toggleable__control:checked~label.sk-toggleable__label {background-color: #d4ebff;}#sk-container-id-15 div.sk-label input.sk-toggleable__control:checked~label.sk-toggleable__label {background-color: #d4ebff;}#sk-container-id-15 input.sk-hidden--visually {border: 0;clip: rect(1px 1px 1px 1px);clip: rect(1px, 1px, 1px, 1px);height: 1px;margin: -1px;overflow: hidden;padding: 0;position: absolute;width: 1px;}#sk-container-id-15 div.sk-estimator {font-family: monospace;background-color: #f0f8ff;border: 1px dotted black;border-radius: 0.25em;box-sizing: border-box;margin-bottom: 0.5em;}#sk-container-id-15 div.sk-estimator:hover {background-color: #d4ebff;}#sk-container-id-15 div.sk-parallel-item::after {content: \"\";width: 100%;border-bottom: 1px solid gray;flex-grow: 1;}#sk-container-id-15 div.sk-label:hover label.sk-toggleable__label {background-color: #d4ebff;}#sk-container-id-15 div.sk-serial::before {content: \"\";position: absolute;border-left: 1px solid gray;box-sizing: border-box;top: 0;bottom: 0;left: 50%;z-index: 0;}#sk-container-id-15 div.sk-serial {display: flex;flex-direction: column;align-items: center;background-color: white;padding-right: 0.2em;padding-left: 0.2em;position: relative;}#sk-container-id-15 div.sk-item {position: relative;z-index: 1;}#sk-container-id-15 div.sk-parallel {display: flex;align-items: stretch;justify-content: center;background-color: white;position: relative;}#sk-container-id-15 div.sk-item::before, #sk-container-id-15 div.sk-parallel-item::before {content: \"\";position: absolute;border-left: 1px solid gray;box-sizing: border-box;top: 0;bottom: 0;left: 50%;z-index: -1;}#sk-container-id-15 div.sk-parallel-item {display: flex;flex-direction: column;z-index: 1;position: relative;background-color: white;}#sk-container-id-15 div.sk-parallel-item:first-child::after {align-self: flex-end;width: 50%;}#sk-container-id-15 div.sk-parallel-item:last-child::after {align-self: flex-start;width: 50%;}#sk-container-id-15 div.sk-parallel-item:only-child::after {width: 0;}#sk-container-id-15 div.sk-dashed-wrapped {border: 1px dashed gray;margin: 0 0.4em 0.5em 0.4em;box-sizing: border-box;padding-bottom: 0.4em;background-color: white;}#sk-container-id-15 div.sk-label label {font-family: monospace;font-weight: bold;display: inline-block;line-height: 1.2em;}#sk-container-id-15 div.sk-label-container {text-align: center;}#sk-container-id-15 div.sk-container {/* jupyter's `normalize.less` sets `[hidden] { display: none; }` but bootstrap.min.css set `[hidden] { display: none !important; }` so we also need the `!important` here to be able to override the default hidden behavior on the sphinx rendered scikit-learn.org. See: https://github.com/scikit-learn/scikit-learn/issues/21755 */display: inline-block !important;position: relative;}#sk-container-id-15 div.sk-text-repr-fallback {display: none;}</style><div id=\"sk-container-id-15\" class=\"sk-top-container\"><div class=\"sk-text-repr-fallback\"><pre>LogisticRegression(max_iter=1000)</pre><b>In a Jupyter environment, please rerun this cell to show the HTML representation or trust the notebook. <br />On GitHub, the HTML representation is unable to render, please try loading this page with nbviewer.org.</b></div><div class=\"sk-container\" hidden><div class=\"sk-item\"><div class=\"sk-estimator sk-toggleable\"><input class=\"sk-toggleable__control sk-hidden--visually\" id=\"sk-estimator-id-15\" type=\"checkbox\" checked><label for=\"sk-estimator-id-15\" class=\"sk-toggleable__label sk-toggleable__label-arrow\">LogisticRegression</label><div class=\"sk-toggleable__content\"><pre>LogisticRegression(max_iter=1000)</pre></div></div></div></div></div>"
      ],
      "text/plain": [
       "LogisticRegression(max_iter=1000)"
      ]
     },
     "execution_count": 235,
     "metadata": {},
     "output_type": "execute_result"
    }
   ],
   "source": [
    "## import logistic regression and the train_test split functions from sklearn\n",
    "from sklearn.linear_model import LogisticRegression\n",
    "from sklearn.model_selection import train_test_split\n",
    "\n",
    "##Your code here\n",
    "\n",
    "# Read the data file\n",
    "heartname = 'heart.csv'\n",
    "heart = np.loadtxt(heartname, skiprows = 1, delimiter = ',')\n",
    "\n",
    "# Use the data above to set y to be the \"target\" and X to be the remaining columns.\n",
    "X = heart[:,0:13]\n",
    "y = heart[:,13]\n",
    "\n",
    "#Split your data into 80% train 20% test using train_test_split.\n",
    "X_train, X_test, y_train, y_test = train_test_split(X, y, test_size = 0.2, random_state = 0)\n",
    "\n",
    "# Logistic Regression\n",
    "lr = LogisticRegression(max_iter = 1000) # could make max_iter = 1000 to avoid warning \n",
    "lr.fit(X_train, y_train)\n",
    "\n"
   ]
  },
  {
   "cell_type": "code",
   "execution_count": null,
   "metadata": {},
   "outputs": [],
   "source": []
  },
  {
   "cell_type": "markdown",
   "metadata": {
    "id": "hFwuvl_W_pR1"
   },
   "source": [
    "Q11) [5 points] Use the .predict_proba function of the logistic regression model that you have learned on your X_test. Note that the .predict_proba function returns an array of tuples where each element corresponds to the predicted probability for class 0 and 1 of the data point."
   ]
  },
  {
   "cell_type": "code",
   "execution_count": 236,
   "metadata": {
    "id": "Fc94rZDs_pR2"
   },
   "outputs": [],
   "source": [
    "##Your code here\n",
    "\n",
    "probs = lr.predict_proba(X_test)\n"
   ]
  },
  {
   "cell_type": "markdown",
   "metadata": {
    "id": "DdislPDJ_pR2"
   },
   "source": [
    "Q12) [12 points]\n",
    "\n",
    "Now you will report your results.\n",
    "\n",
    "* Filter the predicted probabilties from the last question to an array containing only the probabilites for class 1. (I.e., you should no longer have tuples.)\n",
    "* Use the roc_curve function from sklearn (https://scikit-learn.org/stable/modules/generated/sklearn.metrics.roc_curve.html) to plot the ROC curve for your predictions using the predicted probabilities for class 1 and your y_test (use the default parameters).\n",
    "* Print out the thresholds generated by the roc_curve function.\n",
    "* Use the roc_auc_score function from sklearn (https://scikit-learn.org/stable/modules/generated/sklearn.metrics.roc_auc_score.html#sklearn.metrics.roc_auc_score) to report the AUC score."
   ]
  },
  {
   "cell_type": "code",
   "execution_count": 237,
   "metadata": {
    "id": "Tkj9R0vZ_pR2"
   },
   "outputs": [
    {
     "data": {
      "text/plain": [
       "[<matplotlib.lines.Line2D at 0x15f2878e0>]"
      ]
     },
     "execution_count": 237,
     "metadata": {},
     "output_type": "execute_result"
    },
    {
     "data": {
      "image/png": "[encoded data removed]",
      "text/plain": [
       "<Figure size 640x480 with 1 Axes>"
      ]
     },
     "metadata": {},
     "output_type": "display_data"
    }
   ],
   "source": [
    "##Your code here\n",
    "from sklearn import metrics\n",
    "# Filter the rpedicted probabilites to an array containing only probs for class 1\n",
    "probs1 = []\n",
    "for prob in probs:\n",
    "    probs1.append(prob[1])\n",
    "    \n",
    "\n",
    "# Plot ROC curve\n",
    "roc = metrics.roc_curve(y_test, probs1)\n",
    "\n",
    "plt.plot(roc[0],roc[1], color='red')\n"
   ]
  },
  {
   "cell_type": "code",
   "execution_count": 238,
   "metadata": {
    "id": "FApMfK7pFPE4"
   },
   "outputs": [
    {
     "name": "stdout",
     "output_type": "stream",
     "text": [
      "[       inf 0.99499658 0.92896991 0.92690245 0.81476037 0.81050385\n",
      " 0.706647   0.66028552 0.65400722 0.62644938 0.60181388 0.54038187\n",
      " 0.51472793 0.37885035 0.35421579 0.11619719 0.10051077 0.0812962\n",
      " 0.07207752 0.00362469]\n",
      "0.9095860566448801\n"
     ]
    }
   ],
   "source": [
    "##Your code here\n",
    "# PRINT thresholds from roc function\n",
    "print(roc[2])\n",
    "\n",
    "\n",
    "# use roc_auc score from sklearn metrics\n",
    "\n",
    "print(metrics.roc_auc_score(y_test, probs1))"
   ]
  }
 ],
 "metadata": {
  "colab": {
   "provenance": []
  },
  "kernelspec": {
   "display_name": "Python 3 (ipykernel)",
   "language": "python",
   "name": "python3"
  },
  "language_info": {
   "codemirror_mode": {
    "name": "ipython",
    "version": 3
   },
   "file_extension": ".py",
   "mimetype": "text/x-python",
   "name": "python",
   "nbconvert_exporter": "python",
   "pygments_lexer": "ipython3",
   "version": "3.10.8"
  }
 },
 "nbformat": 4,
 "nbformat_minor": 1
}
